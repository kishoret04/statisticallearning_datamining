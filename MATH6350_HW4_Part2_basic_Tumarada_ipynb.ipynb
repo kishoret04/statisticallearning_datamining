{
  "nbformat": 4,
  "nbformat_minor": 0,
  "metadata": {
    "colab": {
      "name": "MATH6350.HW4.Part2.basic.Tumarada.ipynb.ipynb",
      "provenance": [],
      "collapsed_sections": [
        "_yP-Eec2-Oz9"
      ],
      "toc_visible": true,
      "include_colab_link": true
    },
    "kernelspec": {
      "name": "python3",
      "display_name": "Python 3"
    }
  },
  "cells": [
    {
      "cell_type": "markdown",
      "metadata": {
        "id": "view-in-github",
        "colab_type": "text"
      },
      "source": [
        "<a href=\"https://colab.research.google.com/github/kishoret04/statisticallearning_datamining/blob/kishoret04-patch-1/MATH6350_HW4_Part2_basic_Tumarada_ipynb.ipynb\" target=\"_parent\"><img src=\"https://colab.research.google.com/assets/colab-badge.svg\" alt=\"Open In Colab\"/></a>"
      ]
    },
    {
      "cell_type": "code",
      "metadata": {
        "id": "N7I8Ntp69LOw",
        "colab_type": "code",
        "colab": {}
      },
      "source": [
        "import os\n",
        "import pandas as pd\n",
        "import numpy as np\n",
        "from scipy import io\n",
        "import math\n",
        "import matplotlib.pyplot as plt\n",
        "%matplotlib inline\n",
        "\n",
        "from sklearn.pipeline import Pipeline\n",
        "from sklearn.preprocessing import StandardScaler\n",
        "from sklearn.svm import LinearSVC\n",
        "from sklearn.svm import SVC\n",
        "from sklearn.model_selection import GridSearchCV\n",
        "from sklearn.model_selection import StratifiedShuffleSplit\n",
        "from matplotlib.colors import Normalize\n",
        "\n",
        "from scipy import interp\n",
        "from sklearn import svm, datasets\n",
        "from sklearn.metrics import roc_curve, auc\n",
        "from sklearn.decomposition import PCA\n",
        "\n",
        "from sklearn.metrics import confusion_matrix\n",
        "from sklearn.utils.multiclass import unique_labels\n",
        "from pandas import ExcelWriter\n"
      ],
      "execution_count": 0,
      "outputs": []
    },
    {
      "cell_type": "code",
      "metadata": {
        "id": "eEk7hXhwGFjy",
        "colab_type": "code",
        "outputId": "1fea7126-ee78-48f2-9265-62190ebb45c2",
        "colab": {
          "base_uri": "https://localhost:8080/",
          "height": 146
        }
      },
      "source": [
        "!pip install -q xlrd\n",
        "!git clone https://github.com/kishoret04/statisticallearning_datamining.git\n",
        "##Files from the cloned git repository.\n",
        "!ls  statisticallearning_datamining/datasets"
      ],
      "execution_count": 3,
      "outputs": [
        {
          "output_type": "stream",
          "text": [
            "Cloning into 'statisticallearning_datamining'...\n",
            "remote: Enumerating objects: 20, done.\u001b[K\n",
            "remote: Counting objects: 100% (20/20), done.\u001b[K\n",
            "remote: Compressing objects: 100% (16/16), done.\u001b[K\n",
            "remote: Total 20 (delta 4), reused 0 (delta 0), pack-reused 0\u001b[K\n",
            "Unpacking objects: 100% (20/20), done.\n",
            "HW4part2_DS.xlsx  sample\n"
          ],
          "name": "stdout"
        }
      ]
    },
    {
      "cell_type": "markdown",
      "metadata": {
        "id": "5VnOv-LENCS9",
        "colab_type": "text"
      },
      "source": [
        "# Functions"
      ]
    },
    {
      "cell_type": "code",
      "metadata": {
        "id": "_QooSKGR99Xs",
        "colab_type": "code",
        "colab": {}
      },
      "source": [
        "class MidpointNormalize(Normalize):\n",
        "    def __init__(self, vmin=None, vmax=None, midpoint=None, clip=False):\n",
        "        self.midpoint = midpoint\n",
        "        Normalize.__init__(self, vmin, vmax, clip)\n",
        "\n",
        "    def __call__(self, value, clip=None):\n",
        "        x, y = [self.vmin, self.midpoint, self.vmax], [0, 0.5, 1]\n",
        "        return np.ma.masked_array(np.interp(value, x, y))\n",
        "\n",
        "#show size of dataset, each class and plot histogram of mean standard deviations\n",
        "def dataset_describe(dataset_nolabel,dataset_labels):\n",
        "  #class values\n",
        "  class_1 = 7\n",
        "  class_2 = 8\n",
        "  class_3 = 9\n",
        "  print('Name of class 1:{0}\\tSize of class 1:{1}'.format(class_1,sum(dataset_labels == class_1)))\n",
        "  print('Name of class 2:{0}\\tSize of class 2:{1}'.format(class_2,sum(dataset_labels == class_2)))\n",
        "  print('Name of class 3:{0}\\tSize of class 3:{1}'.format(class_3,sum(dataset_labels == class_3)))\n",
        "  print('\\tSize of dataset:{0}'.format(dataset_nolabel.shape[0]))\n",
        "  print('number of features in dataset: ',dataset_nolabel.shape[1])\n",
        "  \n",
        "  # hist of original data\n",
        "  plt.hist(dataset_nolabel.mean())\n",
        "  plt.title('Dataset mean')\n",
        "  plt.xlabel(\"mean\")\n",
        "  plt.ylabel(\"frequency\");\n",
        "  plt.show()\n",
        "\n",
        "  plt.hist(dataset_nolabel.std())\n",
        "  plt.title('Dataset Standard deviation')\n",
        "  plt.xlabel(\"Standard deviation\")\n",
        "  plt.ylabel(\"frequency\");\n",
        "  plt.show()\n",
        "\n",
        "  plt.scatter(dataset_nolabel.mean(),dataset_nolabel.std(),marker = '.')\n",
        "  plt.title('Scatter plot of mean and SD')\n",
        "  plt.xlabel(\"Mean\")\n",
        "  plt.ylabel(\"Standard Deviation\");\n",
        "  plt.show()\n",
        "\n",
        "#function to remove null columns\n",
        "def remove_zerocolumns(df_input ):    \n",
        "  df_residual_data = df_input.loc[:,df_input.sum(axis=0) != 0]\n",
        "  return df_residual_data\n",
        "\n",
        "# def standardize_dataset(df_residual_data):\n",
        "#   #standardizing data\n",
        "#   #df_totaldata_nolabel = self.df_residual_data.drop(columns='label')\n",
        "#   df_totaldata_nolabel = df_residual_data.drop(columns='label')\n",
        "#   df_std_data = (df_totaldata_nolabel - df_totaldata_nolabel.mean())/df_totaldata_nolabel.std()\n",
        "#   df_std_data['label'] = df_totaldata['label']\n",
        "#   return df_std_data\n",
        "\n",
        "def create_traintestdata(prop,df_std_data):\n",
        "  class_1 = 7\n",
        "  class_2 = 8\n",
        "  class_3 = 9\n",
        "  #dividing into 3 classes\n",
        "  df_class1 = df_std_data[df_std_data['label'] == class_1]\n",
        "  df_class2 = df_std_data[df_std_data['label'] == class_2]\n",
        "  df_class3 = df_std_data[df_std_data['label'] == class_3]\n",
        "\n",
        "  #calculate trainset size for cl1\n",
        "  train_size = int(prop*df_class1.shape[0]/100)    \n",
        "  #extract a random sample of 80% CL1 as train and 20% CL1 as test set\n",
        "  train_data = df_class1.sample(train_size)\n",
        "  test_data = df_class1.drop(train_data.index)\n",
        "  \n",
        "  #calculate trainset size for cl2\n",
        "  train_size = int(prop*df_class2.shape[0]/100)\n",
        "  #extract a random sample of 80% CL2 as train and 20% CL2 as test set\n",
        "  cl2_train = df_class2.sample(train_size)\n",
        "  cl2_test = df_class2.drop(cl2_train.index)\n",
        "\n",
        "  #calculate trainset size for cl3\n",
        "  train_size = int(prop*df_class3.shape[0]/100)\n",
        "  #extract a random sample of 80% CL2 as train and 20% CL2 as test set\n",
        "  cl3_train = df_class3.sample(train_size)\n",
        "  cl3_test = df_class3.drop(cl3_train.index)\n",
        "\n",
        "  #creating train and test sets by combinining all three classes\n",
        "  train_data = train_data.append(cl2_train,ignore_index = True)\n",
        "  train_data = train_data.append(cl3_train,ignore_index = True)\n",
        "\n",
        "  test_data = test_data.append(cl2_test,ignore_index = True)\n",
        "  test_data = test_data.append(cl3_test,ignore_index = True)\n",
        "\n",
        "  #separating class labels from train and test\n",
        "  train_data_nolabel = train_data.drop(columns = ['label'])\n",
        "  train_labels_all = train_data['label']\n",
        "\n",
        "  test_data_nolabel = test_data.drop(columns = ['label'])\n",
        "  test_labels_all = test_data['label']\n",
        "\n",
        "  return train_data,test_data,train_data_nolabel,train_labels_all,test_data_nolabel,test_labels_all\n",
        "\n",
        "def create_twoclass_dataset(train_data_nolabel,train_labels_all,class1,class2):\n",
        "  #choosing classes for train\n",
        "  print('creating dataset with 2 given classes:{0},{1} '.format(class1,class2))\n",
        "  train_data = train_data_nolabel[train_labels_all == class1]\n",
        "  print('train_data size1: ',train_data.shape[0])\n",
        "  df_class2 = train_data_nolabel[train_labels_all == class2]\n",
        "  train_data = train_data.append(df_class2,ignore_index = True)\n",
        "  print('train_data size total: ',train_data.shape[0])\n",
        "\n",
        "  #train_labels = train_labels_all[train_labels_all ==class1]\n",
        "  #df_class2_labels = train_labels_all[train_labels_all ==class2]\n",
        "  train_labels = pd.Series(1*np.ones(sum(train_labels_all == class1)))\n",
        "  print('train_labels_1 class:\\n',train_labels.size)\n",
        "  df_class2_labels = pd.Series(-1*np.ones(sum(train_labels_all == class2)))\n",
        "\n",
        "  train_labels = train_labels.append(df_class2_labels,ignore_index = True)\n",
        "  print('self.train_labels total:\\n',train_labels.size)\n",
        "\n",
        "  return train_data,train_labels\n",
        "\n",
        "\n",
        "#function to create required class cl_r and not cl_r datasets and labels\n",
        "def create_data_cl_r(class_r,data_nolabel,data_labels_all,do_reduce):\n",
        "\n",
        "  #trainset creation for cl_req vs notcl_req\n",
        "  #choosing classes for train\n",
        "  train_data = data_nolabel[data_labels_all == class_r]\n",
        "  print('data size1: ',train_data.shape[0])\n",
        "  train_labels = pd.Series(1*np.ones(sum(data_labels_all == class_r)))\n",
        "  print('data_labels_1 class:\\n',train_labels.size)\n",
        "\n",
        "  #sample class_r size from remaining classes\n",
        "  df_class_notr = data_nolabel[data_labels_all  != class_r]\n",
        "  df_class_notr_size = df_class_notr.shape[0]\n",
        "  #print('df_class_notr_size: ',df_class_notr_size)\n",
        "  #reduce class_notr size if required\n",
        "  if do_reduce:\n",
        "\n",
        "    size_sample = int((train_data.shape[0])/2)\n",
        "    print('size_sample: ',size_sample)\n",
        "    if class_r == 7:\n",
        "      df_class_a = data_nolabel[data_labels_all == 8].sample(size_sample)\n",
        "      df_class_b = data_nolabel[data_labels_all == 9].sample(size_sample)\n",
        "    elif class_r == 8:\n",
        "      df_class_a = data_nolabel[data_labels_all == 7].sample(size_sample)\n",
        "      df_class_b = data_nolabel[data_labels_all == 9].sample(size_sample)\n",
        "    elif class_r == 9:\n",
        "      df_class_a = data_nolabel[data_labels_all == 7].sample(size_sample)\n",
        "      df_class_b = data_nolabel[data_labels_all == 8].sample(size_sample)\n",
        "\n",
        "    df_class_notr = df_class_a.append(df_class_b,ignore_index =True)\n",
        "    df_class_notr_size = df_class_notr.shape[0]\n",
        "    \n",
        "  #print('df_class_notr_size:',df_class_notr_size)\n",
        "  df_class_notr_labels = pd.Series(-1*np.ones(df_class_notr_size))\n",
        "  train_data = train_data.append(df_class_notr,ignore_index = True)\n",
        "  print('data size total: ',train_data.shape[0])\n",
        "\n",
        "  train_labels = train_labels.append(df_class_notr_labels,ignore_index = True)\n",
        "  print('data_labels total:\\n',train_labels.size)\n",
        "\n",
        "  return train_data,train_labels \n",
        "\n",
        "\n",
        "# def svm_call(kernel_type,parameters,class1,class2,train_data_nolabel,train_labels_all,\n",
        "#              test_data_nolabel,test_labels_all):\n",
        "def svm_call(kernel_type,parameters,train_data,train_labels,test_data,test_labels):\n",
        "  \n",
        "  ##########choosing kernel based on type###########\n",
        "  if kernel_type == 'linear':\n",
        "    print('kernel_type: ',kernel_type)\n",
        "    print('parameters: ',parameters)\n",
        "    svm_master = SVC(kernel=kernel_type, C=parameters['C'])\n",
        "\n",
        "  elif kernel_type == 'rbf':\n",
        "    print('kernel_type: ',kernel_type)\n",
        "    svm_master = SVC(kernel=kernel_type, gamma=parameters['gamma'], C=parameters['C'])\n",
        "\n",
        "  elif kernel_type == 'poly':\n",
        "    print('kernel_type: ',kernel_type)\n",
        "    svm_master = SVC(kernel=kernel_type,degree = parameters['degree'],coef0 = parameters['coef0'],\n",
        "                     gamma = parameters['gamma'],C = parameters['C'])\n",
        "  \n",
        "\n",
        "\n",
        "  #######Train set fitted SVM######################\n",
        "  #fitting train data into svm model   \n",
        "  print('------Fitting train data into svm model-----')     \n",
        "  svm_master.fit(train_data,train_labels)\n",
        "  print('Score for above parameters in SVC model : ',\n",
        "          svm_master.score(train_data,train_labels))\n",
        "  pred_train_labels = svm_master.predict(train_data)\n",
        "  size_data = train_data.shape[0]    \n",
        "  \n",
        "  #ROC plotting\n",
        "  train_score = svm_master.fit(train_data, train_labels).decision_function(train_data)\n",
        "  #plot_roc(train_score,train_labels) \n",
        " \n",
        "  #sv count and ratio\n",
        "  number_sv = sum(svm_master.n_support_)\n",
        "  print('Number of Support vectors,S : ',number_sv)\n",
        "  ratio_sv = round(number_sv/size_data,2)\n",
        "  print('Ratio of Support vectors,s : ',ratio_sv) \n",
        "  ######updated confusion mat and error estimates#########################\n",
        "  y_true = train_labels\n",
        "  y_pred = svm_master.predict(train_data)\n",
        "\n",
        "  cm,cm_norm = create_confusion_matrix(y_true, y_pred)\n",
        "  cm_norm = np.around(cm_norm*100,2)\n",
        "  df_cm = pd.DataFrame(cm,index = ['true_CL1','true_CL_1'],columns = ['pred_CL1','pred_CL_1'])\n",
        "  df_cm_norm = pd.DataFrame(cm_norm,index = ['true_CL1','true_CL_1'],columns = ['pred_CL1','pred_CL_1'])\n",
        "  print('confusion_matrix:\\n',df_cm)\n",
        "  print('confusion_matrix_norm:\\n',df_cm_norm)\n",
        "  df_confmat_train_error,df_confmat_train_confint = error_estimate_new(df_cm,df_cm_norm)\n",
        "  \n",
        "  print('\\nconfmat_train_error:\\n',df_confmat_train_error,\n",
        "        '\\nconfmat_train_confint:\\n',df_confmat_train_confint)\n",
        "  confmat_train_norm = df_cm_norm\n",
        "  #####################################################################\n",
        "  \n",
        "  # ########SVM applied on test set############  \n",
        "  \n",
        "  print('------SVM applied on test set-----')    \n",
        "  print('Score for above parameters in SVC model for testset : ',\n",
        "        svm_master.score(test_data,test_labels))\n",
        "  pred_test_labels = svm_master.predict(test_data)\n",
        "  # #ROC plotting\n",
        "  # test_score = svm_master.fit(train_data, train_labels).decision_function(test_data)\n",
        "  # plot_roc(test_score,test_labels)\n",
        "  pred_train,pred_test = calc_correct_pred(svm_master,train_data,train_labels,test_data,test_labels)\n",
        "\n",
        "  print(pred_train['pred'])\n",
        "  print(pred_test['pred'])\n",
        "\n",
        "  #confmat_train,confmat_test = calc_confusionmatrix(pred_train,pred_test)\n",
        "\n",
        " ######updated confusion mat and error estimates#########################\n",
        "  y_true = test_labels\n",
        "  y_pred = svm_master.predict(test_data)\n",
        "\n",
        "  cm,cm_norm = create_confusion_matrix(y_true, y_pred)\n",
        "  cm_norm = np.around(cm_norm*100,2)\n",
        "  df_cm = pd.DataFrame(cm,index = ['true_CL1','true_CL_1'],columns = ['pred_CL1','pred_CL_1'])\n",
        "  df_cm_norm = pd.DataFrame(cm_norm,index = ['true_CL1','true_CL_1'],columns = ['pred_CL1','pred_CL_1'])\n",
        "  print('confusion_matrix:\\n',df_cm)\n",
        "  print('confusion_matrix_norm:\\n',df_cm_norm)\n",
        "  df_confmat_test_error,df_confmat_test_confint = error_estimate_new(df_cm,df_cm_norm)\n",
        "  \n",
        "  print('\\nconfmat_test_error:\\n',df_confmat_test_error,\n",
        "        '\\nconfmat_test_confint:\\n',df_confmat_test_confint)\n",
        "  \n",
        "  #####################################################################\n",
        "  return svm_master,confmat_train_norm\n",
        "    \n",
        "def plot_roc(y_score,y_true):\n",
        "  \n",
        "  print('y_score:\\n', y_score)\n",
        "  print('y_true:\\n', y_true)\n",
        "  # Compute ROC curve and ROC area for each class\n",
        "  fpr = dict()\n",
        "  tpr = dict()\n",
        "  roc_auc = dict()\n",
        "\n",
        "  # # Compute micro-average ROC curve and ROC area\n",
        "  fpr[\"micro\"], tpr[\"micro\"], _ = roc_curve(y_true.ravel(), y_score.ravel())\n",
        "  roc_auc[\"micro\"] = auc(fpr[\"micro\"], tpr[\"micro\"])\n",
        "\n",
        "  #For CL1\n",
        "  fpr[0], tpr[0], _ = roc_curve(y_true[y_score>0], y_score[y_score>0])\n",
        "  roc_auc[0] = auc(fpr[0], tpr[0])\n",
        "  #Plot of a ROC curve for a CL1\n",
        "  plt.figure()\n",
        "  lw = 2\n",
        "  plt.plot(fpr[0], tpr[0], color='darkorange',\n",
        "            lw=lw, label='ROC curve (area = %0.2f)' % roc_auc[0])\n",
        "  plt.plot([0, 1], [0, 1], color='navy', lw=lw, linestyle='--')\n",
        "  plt.xlim([0.0, 1.0])\n",
        "  plt.ylim([0.0, 1.05])\n",
        "  plt.xlabel('False Positive Rate')\n",
        "  plt.ylabel('True Positive Rate')\n",
        "  plt.title('Receiver operating characteristic CL1')\n",
        "  plt.legend(loc=\"lower right\")\n",
        "  plt.show()\n",
        "\n",
        "  #For CL_1\n",
        "  fpr[1], tpr[1], _ = roc_curve(y_true[y_score<0], y_score[y_score<0])\n",
        "  roc_auc[1] = auc(fpr[1], tpr[1])\n",
        "  #Plot of a ROC curve for a CL1\n",
        "  plt.figure()\n",
        "  lw = 2\n",
        "  plt.plot(fpr[1], tpr[1], color='darkorange',\n",
        "            lw=lw, label='ROC curve (area = %0.2f)' % roc_auc[1])\n",
        "  plt.plot([0, 1], [0, 1], color='navy', lw=lw, linestyle='--')\n",
        "  plt.xlim([0.0, 1.0])\n",
        "  plt.ylim([0.0, 1.05])\n",
        "  plt.xlabel('False Positive Rate')\n",
        "  plt.ylabel('True Positive Rate')\n",
        "  plt.title('Receiver operating characteristic CL -1')\n",
        "  plt.legend(loc=\"lower right\")\n",
        "  plt.show()\n",
        "\n",
        "def calc_correct_pred(svm_master,train_data,train_labels,test_data,test_labels):\n",
        "  \n",
        "  #initializing pred_train and pred_test\n",
        "  pred_train = pd.DataFrame(0,index =['total','cl1','cl_1'],\n",
        "                                  columns = ['pred','error','conf_int'])\n",
        "  pred_test = pd.DataFrame(0,index =['total','cl1','cl_1'],\n",
        "                                  columns = ['pred','error','conf_int'])\n",
        "  #calculating correct prediction for train data\n",
        "  pred_train.loc['total','pred'] = svm_master.score(train_data,train_labels)*100\n",
        "  \n",
        "  #Prediction accuracy on train set for CL1 and CL_1\n",
        "  pred_train.loc['cl1','pred'] = svm_master.score(train_data[train_labels > 0],\n",
        "                                                  train_labels[train_labels > 0])*100\n",
        "\n",
        "  pred_train.loc['cl_1','pred'] = svm_master.score(train_data[train_labels < 0],\n",
        "                                                   train_labels[train_labels < 0])*100\n",
        "\n",
        "  #calculating correct prediction for test data\n",
        "  pred_test.loc['total','pred'] = svm_master.score(test_data,test_labels)*100\n",
        "  \n",
        "  #Prediction accuracy on test set for CL1 and CL_1           \n",
        "  pred_test.loc['cl1','pred'] = svm_master.score(test_data[test_labels > 0],\n",
        "                                                 test_labels[test_labels > 0])*100\n",
        "\n",
        "  pred_test.loc['cl_1','pred'] = svm_master.score(test_data[test_labels < 0],\n",
        "                                                  test_labels[test_labels < 0])*100\n",
        "\n",
        "  return pred_train,pred_test\n",
        "\n",
        "def calc_confusionmatrix(pred_train,pred_test):     \n",
        "\n",
        "  confmat_train = pd.DataFrame(0,index = ['true_CL1','true_CL_1'],\n",
        "                                      columns = ['pred_CL1','pred_CL_1'])\n",
        "  confmat_test = pd.DataFrame(0,index = ['true_CL1','true_CL_1'],\n",
        "                                      columns = ['pred_CL1','pred_CL_1'])\n",
        "  #reading predictions for cl1 and cl_1\n",
        "  pred_train_cl1 = pred_train.loc['cl1','pred']\n",
        "  pred_train_cl_1 = pred_train.loc['cl_1','pred']\n",
        "\n",
        "  #creating confusion matrix for train data\n",
        "  confmat_train_data = np.array([pred_train_cl1,100-pred_train_cl1,100-pred_train_cl_1,pred_train_cl_1]).reshape(2,2)\n",
        "  confmat_train = pd.DataFrame(np.around(confmat_train_data,2),index = ['true_CL1','true_CL_1'],columns = ['pred_CL1','pred_CL_1'])\n",
        "\n",
        "  #reading predictions for cl1 and cl_1\n",
        "  pred_test_cl1 = pred_test.loc['cl1','pred']\n",
        "  pred_test_cl_1 = pred_test.loc['cl_1','pred']\n",
        "\n",
        "  #creating confusion matrix for test data\n",
        "  confmat_test_data = np.array([pred_test_cl1,100-pred_test_cl1,100-pred_test_cl_1,pred_test_cl_1]).reshape(2,2)\n",
        "  confmat_test = pd.DataFrame(np.around(confmat_test_data,2),index = ['true_CL1','true_CL_1'],columns = ['pred_CL1','pred_CL_1'])\n",
        "\n",
        "  return confmat_train,confmat_test\n",
        "\n",
        "def error_estimate_new(confmat_train,confmat_train_norm): \n",
        " \n",
        "  confmat_train_error = np.zeros(confmat_train.shape)\n",
        "  confmat_train_confint = np.chararray(confmat_train.shape,itemsize = 20)\n",
        "  confmat_mat = np.mat(confmat_train)\n",
        "  confmat_norm_mat = np.mat(confmat_train_norm)\n",
        "\n",
        "  for i in range(confmat_mat.shape[0]):    \n",
        "    size = np.sum(confmat_mat[i])\n",
        "    for j in range(confmat_mat.shape[0]):      \n",
        "      confmat_train_error[i][j] = err_est_element(confmat_norm_mat[i,j],size,True)\n",
        "      confmat_train_confint[i][j] = err_est_element(confmat_norm_mat[i,j],size,False)      \n",
        "\n",
        "  df_confmat_train_error =  pd.DataFrame(confmat_train_error,index = confmat_train.index,\n",
        "                                    columns = confmat_train.columns)\n",
        "  df_confmat_train_confint =  pd.DataFrame(confmat_train_confint,index = confmat_train.index,\n",
        "                                    columns = confmat_train.columns)\n",
        "\n",
        "  return df_confmat_train_error,df_confmat_train_confint\n",
        "\n",
        "def create_confusion_matrix(y_true, y_pred):\n",
        "\n",
        "  # Compute confusion matrix\n",
        "  cm = confusion_matrix(y_true, y_pred)\n",
        "  print('Confusion matrix, without normalization')\n",
        "  print(cm)\n",
        "   # Compute normalized confusion matrix\n",
        "  cm_norm = cm.astype('float') / cm.sum(axis=1)[:, np.newaxis]\n",
        "  print(\"Normalized confusion matrix\")\n",
        "  print(cm_norm)\n",
        "  return cm,cm_norm\n",
        "\n",
        "\n",
        "def error_estimate(train_data,train_labels,pred_train,test_labels,\n",
        "                   test_data,pred_test,confmat_train,confmat_test):\n",
        "  \n",
        "  confmat_train_error =  pd.DataFrame(0,index = ['true_CL1','true_CL_1'],\n",
        "                                    columns = ['pred_CL1','pred_CL_1'])\n",
        "  confmat_train_confint =  pd.DataFrame(0,index = ['true_CL1','true_CL_1'],\n",
        "                                    columns = ['pred_CL1','pred_CL_1'])\n",
        " \n",
        "  confmat_test_error = pd.DataFrame(0,index = ['true_CL1','true_CL_1'],\n",
        "                                    columns = ['pred_CL1','pred_CL_1'])\n",
        "  confmat_test_confint = pd.DataFrame(0,index = ['true_CL1','true_CL_1'],\n",
        "                                    columns = ['pred_CL1','pred_CL_1'])\n",
        "  \n",
        "  #error estimation for train data\n",
        "  size_train_cl1 = sum(train_labels > 0)\n",
        "  size_train_cl_1 = sum(train_labels < 0)\n",
        "  #sigma estimation\n",
        "  pred_train.loc['total','error'] = err_est_element(pred_train.loc['total','pred'],\n",
        "                                                        train_data.shape[0],True)\n",
        "  pred_train.loc['cl1','error'] = err_est_element(pred_train.loc['cl1','pred'],\n",
        "                                                        size_train_cl1,True)\n",
        "  pred_train.loc['cl_1','error'] = err_est_element(pred_train.loc['cl_1','pred'],\n",
        "                                                        size_train_cl_1,True)\n",
        "  #confidence interval calculation\n",
        "  pred_train.loc['total','conf_int'] = err_est_element(pred_train.loc['total','pred'],\n",
        "                                                        train_data.shape[0],False)\n",
        "  pred_train.loc['cl1','conf_int'] = err_est_element(pred_train.loc['cl1','pred'],\n",
        "                                                        size_train_cl1,False)\n",
        "  pred_train.loc['cl_1','conf_int'] = err_est_element(pred_train.loc['cl_1','pred'],\n",
        "                                                        size_train_cl_1,False)\n",
        "  #sigma and confid interval estimation for confmat_train \n",
        "  #calculations for first row\n",
        "  #size = confmat_train.loc['true_CL1','pred_CL1']*size_train_cl1/100\n",
        "  size = size_train_cl1\n",
        "  confmat_train_error.loc['true_CL1','pred_CL1'] = err_est_element(confmat_train.loc['true_CL1','pred_CL1'],size,True)\n",
        "  confmat_train_confint.loc['true_CL1','pred_CL1'] = err_est_element(confmat_train.loc['true_CL1','pred_CL1'],size,False)\n",
        "  #size = self.confmat_train.loc['true_CL1','pred_CL_1']*size_train_cl1/100\n",
        "  confmat_train_error.loc['true_CL1','pred_CL_1'] = err_est_element(confmat_train.loc['true_CL1','pred_CL_1'],size,True)\n",
        "  confmat_train_confint.loc['true_CL1','pred_CL_1'] = err_est_element(confmat_train.loc['true_CL1','pred_CL_1'],size,False)\n",
        "\n",
        "  #calculations for second row\n",
        "  #size = self.confmat_train.loc['true_CL_1','pred_CL1']*size_train_cl_1/100\n",
        "  size = size_train_cl_1\n",
        "  confmat_train_error.loc['true_CL_1','pred_CL1'] = err_est_element(confmat_train.loc['true_CL_1','pred_CL1'],size,True)\n",
        "  confmat_train_confint.loc['true_CL_1','pred_CL1'] = err_est_element(confmat_train.loc['true_CL_1','pred_CL1'],size,False)\n",
        "  #size = confmat_train.loc['true_CL_1','pred_CL_1']*size_train_cl_1/100\n",
        "  confmat_train_error.loc['true_CL_1','pred_CL_1'] = err_est_element(confmat_train.loc['true_CL_1','pred_CL_1'],size,True)\n",
        "  confmat_train_confint.loc['true_CL_1','pred_CL_1'] = err_est_element(confmat_train.loc['true_CL_1','pred_CL_1'],size,False)\n",
        "  \n",
        "  \n",
        "  #error estimation for test data\n",
        "  size_test_cl1 = sum(test_labels > 0)\n",
        "  size_test_cl_1 = sum(test_labels < 0)\n",
        "  #sigma estimation\n",
        "  pred_test.loc['total','error'] = err_est_element(pred_test.loc['total','pred'],\n",
        "                                                        test_data.shape[0],True)\n",
        "  pred_test.loc['cl1','error'] = err_est_element(pred_test.loc['cl1','pred'],\n",
        "                                                        size_test_cl1,True)\n",
        "  pred_test.loc['cl_1','error'] = err_est_element(pred_test.loc['cl_1','pred'],\n",
        "                                                        size_test_cl_1,True)\n",
        "  #confidence interval calculation\n",
        "  pred_test.loc['total','conf_int'] = err_est_element(pred_test.loc['total','pred'],\n",
        "                                                        test_data.shape[0],False)\n",
        "  pred_test.loc['cl1','conf_int'] = err_est_element(pred_test.loc['cl1','pred'],\n",
        "                                                        size_test_cl1,False)\n",
        "  pred_test.loc['cl_1','conf_int'] = err_est_element(pred_test.loc['cl_1','pred'],\n",
        "                                                        size_test_cl_1,False)\n",
        "  \n",
        "  #sigma and confid interval estimation for confmat_test\n",
        "  #calculations for first row for true_cl1\n",
        "  #size = self.confmat_test.loc['true_CL1','pred_CL1']*size_test_cl1/100\n",
        "  size = size_test_cl1\n",
        "  confmat_test_error.loc['true_CL1','pred_CL1'] = err_est_element(confmat_test.loc['true_CL1','pred_CL1'],size,True)\n",
        "  confmat_test_confint.loc['true_CL1','pred_CL1'] = err_est_element(confmat_test.loc['true_CL1','pred_CL1'],size,False)\n",
        "  #size = self.confmat_test.loc['true_CL1','pred_CL_1']*size_test_cl1/100\n",
        "  confmat_test_error.loc['true_CL1','pred_CL_1'] = err_est_element(confmat_test.loc['true_CL1','pred_CL_1'],size,True)\n",
        "  confmat_test_confint.loc['true_CL1','pred_CL_1'] = err_est_element(confmat_test.loc['true_CL1','pred_CL_1'],size,False)\n",
        "\n",
        "  #calculations for second row for true_cl_1\n",
        "  #size = self.confmat_test.loc['true_CL_1','pred_CL1']*size_test_cl_1/100\n",
        "  size = size_test_cl_1\n",
        "  confmat_test_error.loc['true_CL_1','pred_CL1'] = err_est_element(confmat_test.loc['true_CL_1','pred_CL1'],size,True)\n",
        "  confmat_test_confint.loc['true_CL_1','pred_CL1'] = err_est_element(confmat_test.loc['true_CL_1','pred_CL1'],size,False)\n",
        "  #size = self.confmat_test.loc['true_CL_1','pred_CL_1']*size_test_cl_1/100\n",
        "  confmat_test_error.loc['true_CL_1','pred_CL_1'] = err_est_element(confmat_test.loc['true_CL_1','pred_CL_1'],size,True)\n",
        "  confmat_test_confint.loc['true_CL_1','pred_CL_1'] = err_est_element(confmat_test.loc['true_CL_1','pred_CL_1'],size,False)\n",
        "  \n",
        "  # print('For 95% confidence level, Errors of estimation on {0} = {1} is {2} and confidence interval is {3}'.\n",
        "  #     format(term_name,term,sigma,conf_int))\n",
        "  return confmat_train_error,confmat_train_confint,confmat_test_error,confmat_test_confint\n",
        "  \n",
        "def err_est_element(term,size,return_sigma):\n",
        "\n",
        "  sigma = np.around(math.sqrt(term*(100-term)/size),2)\n",
        "  \n",
        "  #for 95% confidence level\n",
        "  Z_VAL = 1.96\n",
        "  limit_lower = np.around((term - Z_VAL*sigma),2)\n",
        "  if limit_lower < 0:\n",
        "    #print('before if:',limit_lower)\n",
        "    limit_lower = 0\n",
        "    #print('after if:',limit_lower)\n",
        "\n",
        "  limit_upper = np.around((term + Z_VAL*sigma),2)\n",
        "  if limit_upper > 100:\n",
        "    #print('before if:',limit_upper)\n",
        "    limit_upper = 100\n",
        "    #print('after if:',limit_upper)      \n",
        "\n",
        "  conf_int = [limit_lower,limit_upper]\n",
        "  \n",
        "  if return_sigma:\n",
        "    return sigma\n",
        "  else:\n",
        "    return str(conf_int)\n",
        "\n",
        "\n",
        "def tune(tuned_parameters,nfolds,is_test,train_data,train_labels):\n",
        "  \n",
        "  kernel_type = tuned_parameters['kernel'][0]\n",
        "  print('kernel_type : ',kernel_type)\n",
        "\n",
        "  grid_search = GridSearchCV(SVC(), tuned_parameters, cv=nfolds, return_train_score = True)\n",
        "  print('------Fitting train data into svm model-----')      \n",
        "  grid_search.fit(train_data,train_labels)\n",
        "  size_data = train_data.shape[0]\n",
        "  #train data scores and plots\n",
        "  best_params  = grid_search.best_params_\n",
        "  #display scores and parameters\n",
        "  print(\"# Tuning hyper-parameters\\n\")\n",
        "  print(\"\\nBest parameters set found on development set:\\n\")\n",
        "  print(grid_search.best_params_)\n",
        "  print(\"\\nGrid scores on development set:\\n\")\n",
        "  means = grid_search.cv_results_['mean_test_score']\n",
        "  stds = grid_search.cv_results_['std_test_score']\n",
        "  means2 = grid_search.cv_results_['mean_train_score']\n",
        "  stds2 = grid_search.cv_results_['std_train_score']\n",
        "  df_grid_scores = pd.DataFrame(0,index = [],columns = ['score_test','std_test','score_train','std_train','diff_score','avg_score','params'])\n",
        "  \n",
        "  for mean, std,mean2, std2, params in zip(means, stds,means2, stds2, grid_search.cv_results_['params']):\n",
        "\n",
        "    row = {'score_test':round(mean,2),'std_test':round(std,2),'score_train':round(mean2,2),\n",
        "       'std_train':round(std2,2),'diff_score':round(mean-mean2,2),\n",
        "       'avg_score':round((mean+mean2)/2,2),'params':params}   \n",
        "    df_grid_scores = df_grid_scores.append(row,ignore_index = True)\n",
        "\n",
        "    # print(\"%0.3f (+/-%0.03f) for %r for test\"\n",
        "    #       % (mean, std * 2, params))\n",
        "    # print(\"%0.3f (+/-%0.03f) for %r for train\"\n",
        "    #       % (mean2, std2 * 2, params))\n",
        "    \n",
        "  # #number of support vectors for train data model\n",
        "  # self.tune_sv_score(tuned_parameters,False)\n",
        "\n",
        "  # #fitting test data into svm model\n",
        "  # print('------calculating scores for test data for various svm models-----') \n",
        "  # size_data = self.test_data.shape[0]   \n",
        "  # self.tune_sv_score(tuned_parameters,True)  \n",
        "  df_grid_scores.to_excel('grid_scores_'+kernel_type+'.xlsx')\n",
        "\n",
        "  if kernel_type in ['rbf','poly']:\n",
        "    print('in heatmap:',kernel_type)\n",
        "    tune_heatmap(tuned_parameters,grid_search)\n",
        "\n",
        "  return best_params\n",
        "      \n",
        "def tune_sv_score(self,tuned_parameters,is_test):    \n",
        "  \n",
        "  kernel_type = tuned_parameters['kernel'][0]\n",
        "  tune_data_col = {'cost':[],'gamma':[],'coef0':[],'number_sv':[],\n",
        "                    'ratio_sv':[],'score_tr':[],'score_tt':[],'score_diff':[]}\n",
        "  self.df_tune_data = pd.DataFrame(tune_data_col) \n",
        "  \n",
        "  if is_test:\n",
        "    #fitting test data into svm model\n",
        "    #print('------Fitting test data into svm model-----') \n",
        "    select_data =  self.test_data\n",
        "    select_data_labels = self.test_labels        \n",
        "    #size_data = self.test_data.shape[0]\n",
        "\n",
        "  else:\n",
        "    #fitting train data into svm model  \n",
        "    print('------Fitting train data into svm model-----')\n",
        "    select_data =  self.train_data\n",
        "    select_data_labels = self.train_labels\n",
        "  size_data = self.train_data.shape[0]\n",
        "  \n",
        "  #choosing kernel based on type\n",
        "  if kernel_type == 'linear':\n",
        "    C_range = tuned_parameters['C']\n",
        "    for cost in C_range:        \n",
        "      svm_sample = SVC(kernel=kernel_type, C=cost)\n",
        "      svm_sample.fit(self.train_data,self.train_labels)\n",
        "      \n",
        "      #getting scores and SVs for each cost\n",
        "      number_sv,svm_sam_tr_score,svm_sam_tt_score = self.calc_sv_score(\n",
        "        svm_sample,select_data,select_data_labels)\n",
        "\n",
        "      ratio_sv = np.around(number_sv/size_data,2)\n",
        "      append_data = {'cost':cost,'number_sv':number_sv,'ratio_sv':ratio_sv, \n",
        "                      'score_tr':svm_sam_tr_score,'score_tt':svm_sam_tt_score,\n",
        "                      'score_diff':svm_sam_tr_score-svm_sam_tt_score}\n",
        "      self.df_tune_data = self.df_tune_data.append(append_data,ignore_index = True)\n",
        "\n",
        "      #plot ROC for each cost/parameter        \n",
        "      test_score = svm_sample.fit(self.train_data, self.train_labels).decision_function(self.test_data)\n",
        "      \n",
        "      self.plot_roc(test_score,self.test_labels)\n",
        "              \n",
        "      #print('C: {0} ; Number of Support vectors,S : {1};score : {2}'.format(cost,number_sv,svm_sample_score))\n",
        "    \n",
        "    self.plot_tune_data(kernel_type)        \n",
        "\n",
        "  elif kernel_type == 'rbf':\n",
        "    C_range = tuned_parameters['C']\n",
        "    gamma_range = tuned_parameters['gamma']\n",
        "    for cost in C_range:\n",
        "      for gamma in gamma_range:            \n",
        "        svm_sample = SVC(kernel=kernel_type, C=cost,gamma = gamma)\n",
        "        svm_sample.fit(self.train_data,self.train_labels)\n",
        "        #getting scores and SVs for each cost\n",
        "        number_sv,svm_sam_tr_score,svm_sam_tt_score = self.calc_sv_score(\n",
        "            svm_sample,select_data,select_data_labels)\n",
        "        ratio_sv = np.around(number_sv/size_data,2)\n",
        "        append_data = {'cost':cost,'gamma':gamma,'number_sv':number_sv,\n",
        "                        'ratio_sv':ratio_sv,'score_tr':svm_sam_tr_score,\n",
        "                        'score_tt':svm_sam_tt_score,'score_diff':svm_sam_tr_score-svm_sam_tt_score}\n",
        "        self.df_tune_data = self.df_tune_data.append(append_data,ignore_index = True)\n",
        "        #print('C: {0} ;gamma:{3} Number of Support vectors,S : {1};score : {2}'.format(cost,number_sv,svm_sample_score,gamma))\n",
        "        #plot ROC for each cost/parameter          \n",
        "        test_score = svm_sample.fit(self.train_data, self.train_labels).decision_function(self.test_data)\n",
        "        self.plot_roc(test_score,self.test_labels)\n",
        "    \n",
        "    self.plot_tune_data(kernel_type)    \n",
        "\n",
        "  elif kernel_type == 'poly':\n",
        "    print('kernel_type: ',kernel_type)\n",
        "    C_range = tuned_parameters['C']\n",
        "    coef0_range = tuned_parameters['coef0']\n",
        "    gamma = tuned_parameters['gamma'][0]\n",
        "    for cost in C_range:\n",
        "      for coef0 in coef0_range:            \n",
        "        svm_sample = SVC(kernel=kernel_type,degree = 4,coef0 = coef0,\n",
        "                          gamma = gamma,C = cost)\n",
        "        svm_sample.fit(self.train_data,self.train_labels)\n",
        "        #getting scores and SVs for each cost\n",
        "        number_sv,svm_sam_tr_score,svm_sam_tt_score = self.calc_sv_score(\n",
        "            svm_sample,select_data,select_data_labels)\n",
        "        ratio_sv = np.around(number_sv/size_data,2)\n",
        "        append_data = {'cost':cost,'gamma':gamma,'number_sv':number_sv,\n",
        "                        'coef0':coef0,'ratio_sv':ratio_sv,'score_tr':svm_sam_tr_score,\n",
        "                        'score_tt':svm_sam_tt_score,'score_diff':svm_sam_tr_score-svm_sam_tt_score}\n",
        "        self.df_tune_data = self.df_tune_data.append(append_data,ignore_index = True)\n",
        "        #plot ROC for each cost/parameter        \n",
        "        test_score = svm_sample.fit(self.train_data, self.train_labels).decision_function(self.test_data)\n",
        "        self.plot_roc(test_score,self.test_labels)\n",
        "\n",
        "    self.plot_tune_data(kernel_type)\n",
        "\n",
        "        #print('C: {0} ;coef0:{3} Number of Support vectors,S : {1};score : {2}'.format(cost,number_sv,svm_sample_score,coef0))\n",
        "\n",
        "def plot_tune_data(self,kernel_type):\n",
        "\n",
        "    print('df_tune_data:\\n',self.df_tune_data)\n",
        "   \n",
        "    #cost vs ratio_sv\n",
        "    ax = self.df_tune_data.plot('cost','ratio_sv',kind = 'scatter',title = 'cost vs sv ratio',style='b')\n",
        "    self.df_tune_data.plot('cost','ratio_sv',kind = 'line',title = 'cost vs sv ratio',\n",
        "                            ax=ax,style='r',logx=True,grid=True)\n",
        "    \n",
        "    ax = self.df_tune_data.plot(x = 'cost', y =['score_tt','score_tr'],  title = 'cost vs score',\n",
        "                                logx=True,grid=True)\n",
        "   \n",
        "    if kernel_type == 'linear':                   \n",
        "      pass\n",
        "    elif kernel_type == 'rbf':\n",
        "      #gamma vs ratio_sv\n",
        "      ax = self.df_tune_data.plot('gamma','ratio_sv',kind = 'scatter',title = 'gamma vs sv ratio',style='b')\n",
        "      self.df_tune_data.plot('gamma','ratio_sv',kind = 'line',title = 'gamma vs sv ratio',\n",
        "                              ax=ax,style='r',logx=True,grid=True)\n",
        "      \n",
        "      #gamma vs score Tr\n",
        "      ax = self.df_tune_data.plot(x = 'gamma', y =['score_tt','score_tr'],  title = 'gamma vs score',\n",
        "                                logx=True,grid=True)\n",
        "        \n",
        "      \n",
        "    elif kernel_type == 'poly':       \n",
        "                \n",
        "      #coef0 vs ratio_sv\n",
        "      ax = self.df_tune_data.plot('coef0','ratio_sv',kind = 'scatter',title = 'coef0 vs sv ratio',style='b')\n",
        "      self.df_tune_data.plot('coef0','ratio_sv',kind = 'line',title = 'coef0 vs sv ratio',\n",
        "                              ax=ax,style='r',logx=True,grid=True)\n",
        "      \n",
        "      #coef0 vs score Train\n",
        "      ax = self.df_tune_data.plot(x = 'coef0', y =['score_tt','score_tr'],  title = 'coef0 vs score',\n",
        "                                logx=True,grid=True)\n",
        "      \n",
        "      \n",
        "      \n",
        "def calc_sv_score(self,svm_sample,select_data,select_data_labels):\n",
        "  #train score\n",
        "  svm_sample_tr_score = svm_sample.score(self.train_data,self.train_labels)\n",
        "\n",
        "  #test score\n",
        "  svm_sample_tt_score = svm_sample.score(self.test_data,self.test_labels)\n",
        "\n",
        "  #getting decision function and identifying support vectors for train data - same for test data\n",
        "  decision_function = svm_sample.decision_function(self.train_data)\n",
        "  sv_indices = np.where(self.train_labels * decision_function <= 1)[0]\n",
        "  support_vectors = self.train_data.loc[sv_indices]\n",
        "  number_sv = sum(svm_sample.n_support_)\n",
        "  return number_sv,svm_sample_tr_score,svm_sample_tt_score\n",
        "\n",
        "\n",
        "def tune_heatmap(tuned_parameters,grid):\n",
        "  \n",
        "  kernel_type = tuned_parameters['kernel'][0]\n",
        "  if kernel_type == 'rbf':\n",
        "    C_range = tuned_parameters['C']\n",
        "    parameter_range = tuned_parameters['gamma']      \n",
        "    parameter_name = 'gamma'\n",
        "  elif kernel_type == 'poly':\n",
        "    C_range = tuned_parameters['C']\n",
        "    parameter_range = tuned_parameters['coef0']\n",
        "    parameter_name = 'a'\n",
        "\n",
        "  scores = grid.cv_results_['mean_test_score'].reshape(len(C_range),\n",
        "                            len(parameter_range))  \n",
        "  \n",
        "  # Draw heatmap of the validation accuracy as a function of gamma and C\n",
        "  #\n",
        "  # The score are encoded as colors with the hot colormap which varies from dark\n",
        "  # red to bright yellow. As the most interesting scores are all located in the\n",
        "  # 0.92 to 0.97 range we use a custom normalizer to set the mid-point to 0.92 so\n",
        "  # as to make it easier to visualize the small variations of score values in the\n",
        "  # interesting range while not brutally collapsing all the low score values to\n",
        "  # the same color.\n",
        "\n",
        "  plt.figure(figsize=(8, 6))\n",
        "  plt.subplots_adjust(left=.2, right=0.95, bottom=0.15, top=0.95)\n",
        "  plt.imshow(scores, interpolation='nearest', cmap=plt.cm.hot,\n",
        "        norm=MidpointNormalize(vmin=0.2, midpoint=0.92))\n",
        "  plt.xlabel(parameter_name)\n",
        "  \n",
        "  plt.ylabel('C')\n",
        "  plt.colorbar()\n",
        "  plt.xticks(np.arange(len(parameter_range)), parameter_range, rotation=45)\n",
        "  plt.yticks(np.arange(len(C_range)), C_range)\n",
        "  plt.title('Validation accuracy')\n",
        "  plt.show()\n",
        "\n",
        "def plot_confusion_matrix(y_true, y_pred, classes,\n",
        "                          normalize=False,\n",
        "                          title=None,\n",
        "                          cmap=plt.cm.Blues):\n",
        "\n",
        "  \"\"\"\n",
        "  This function prints and plots the confusion matrix.\n",
        "  Normalization can be applied by setting `normalize=True`.\n",
        "  \"\"\"\n",
        "  if not title:\n",
        "      if normalize:\n",
        "          title = 'Normalized confusion matrix'\n",
        "      else:\n",
        "          title = 'Confusion matrix, without normalization'\n",
        "\n",
        "  # Compute confusion matrix\n",
        "  cm = confusion_matrix(y_true, y_pred)\n",
        "  # Only use the labels that appear in the data\n",
        "  classes = classes[unique_labels(y_true, y_pred)]\n",
        "  if normalize:\n",
        "      cm = cm.astype('float') / cm.sum(axis=1)[:, np.newaxis]\n",
        "      print(\"Normalized confusion matrix\")\n",
        "  else:\n",
        "      print('Confusion matrix, without normalization')\n",
        "\n",
        "  print(cm)\n",
        "  \n",
        "\n",
        "  fig, ax = plt.subplots()\n",
        "  im = ax.imshow(cm, interpolation='nearest', cmap=cmap)\n",
        "  ax.figure.colorbar(im, ax=ax)\n",
        "  # We want to show all ticks...\n",
        "  ax.set(xticks=np.arange(cm.shape[1]),\n",
        "          yticks=np.arange(cm.shape[0]),\n",
        "          # ... and label them with the respective list entries\n",
        "          xticklabels=classes, yticklabels=classes,\n",
        "          title=title,\n",
        "          ylabel='True label',\n",
        "          xlabel='Predicted label', )\n",
        "\n",
        "  # Rotate the tick labels and set their alignment.\n",
        "  plt.setp(ax.get_xticklabels(), rotation=45, ha=\"right\",\n",
        "            rotation_mode=\"anchor\")\n",
        "  plt.subplots_adjust(left=.2, right=0.95, bottom=0.15, top=0.95)\n",
        "  # Loop over data dimensions and create text annotations.\n",
        "  fmt = '.2f' if normalize else 'd'\n",
        "  thresh = cm.max() / 2.\n",
        "  for i in range(cm.shape[0]):\n",
        "      for j in range(cm.shape[1]):\n",
        "          ax.text(j, i, format(cm[i, j], fmt),\n",
        "                  ha=\"center\", va=\"center\",\n",
        "                  color=\"white\" if cm[i, j] > thresh else \"black\")\n",
        "  fig.tight_layout()\n",
        "  return ax\n",
        "\n",
        "# print(confusion_matrix(test_labels_all,pred_test_labels))\n",
        "# np.set_printoptions(precision=2)\n",
        "\n",
        "\n",
        "def predict_final(train_data_reduced,train_labels_all,svm_1,svm_2,svm_3):\n",
        "  \n",
        "  #predicting for svm1\n",
        "  class_r =7\n",
        "  do_reduce = False\n",
        "  #train_data,train_labels = create_data_cl_r(class_r,train_data_reduced,train_labels_all,do_reduce)\n",
        "  predict_svm1 = svm_1.predict(train_data_reduced)\n",
        "\n",
        "  #predicting for svm2\n",
        "  class_r =8\n",
        "  do_reduce = False\n",
        "  #train_data,train_labels = create_data_cl_r(class_r,train_data_reduced,train_labels_all,do_reduce)\n",
        "  predict_svm2 = svm_2.predict(train_data_reduced)\n",
        "    \n",
        "  #predicting for svm3\n",
        "  class_r =9\n",
        "  do_reduce = False\n",
        "  #train_data,train_labels = create_data_cl_r(class_r,train_data_reduced,train_labels_all,do_reduce)\n",
        "  predict_svm3 = svm_3.predict(train_data_reduced)\n",
        "\n",
        "  #excel sheet\n",
        "  filepath = 'predict_final.xlsx'\n",
        "  \n",
        "  #masking of svm1 result with first row of decision matrix\n",
        "  pred1 = np.array(predict_svm1)\n",
        "  #print('pred1:\\n',pred1)\n",
        "\n",
        "  #expanding 1 column redictions to 3 column matrix \n",
        "  matr11 = np.asmatrix(pred1).T\n",
        "  matr21 = np.repeat(matr11,3,axis=1)\n",
        "\n",
        "  #masking 3 column array to binary rows\n",
        "  matr21 = np.where(matr21>0,[1,0,0],[0,1,1])\n",
        "  #print('matr21:\\n',matr21)\n",
        "  \n",
        "  #multiplying wiht decision matrix corresponding row with svm result\n",
        "  mat_decision_CM = np.matrix(df_decision_CM)\n",
        "  result1 = matr21*np.array(mat_decision_CM[0])\n",
        "  #print('result1:\\n',result1)\n",
        "\n",
        "  #masking of svm2 result with second row of decision matrix\n",
        "  pred2 = np.array(predict_svm2)\n",
        "  #print('pred2:\\n',pred2)\n",
        "  \n",
        "  matr12 = np.asmatrix(pred2).T\n",
        "  matr22 = np.repeat(matr12,3,axis=1)\n",
        "\n",
        "  #masking 3 column array to binary rows\n",
        "  matr22 = np.where(matr22>0,[0,1,0],[1,0,1])\n",
        "  #print('matr22:\\n',matr22)\n",
        "  #multiplying wiht decision matrix corresponding row with svm result\n",
        "  mat_decision_CM = np.matrix(df_decision_CM)\n",
        "  result2 = matr22*np.array(mat_decision_CM[1])\n",
        "  #print('result2:\\n',result2) \n",
        "\n",
        "  #masking of svm2 result with third row of decision matrix\n",
        "  pred3 = np.array(predict_svm3)\n",
        "  #print('pred3:\\n',pred3)\n",
        "  \n",
        "  matr13 = np.asmatrix(pred3).T\n",
        "  matr23 = np.repeat(matr13,3,axis=1)\n",
        "\n",
        "  \n",
        "  #masking 3 column array to binary rows\n",
        "  matr23 = np.where(matr23>0,[0,0,1],[1,1,0])\n",
        "  #print('matr23:\\n',matr23)\n",
        "  #multiplying wiht decision matrix corresponding row with svm result\n",
        "  mat_decision_CM = np.matrix(df_decision_CM)\n",
        "  result3 = matr23*np.array(mat_decision_CM[2])\n",
        "  #print('result3:\\n',result3)\n",
        "\n",
        "  result = result1+result2+result3\n",
        "  #print('result:\\n',result)\n",
        "\n",
        "  #normalising by decision matrix sum\n",
        "  sum_result_rows = np.sum(result,axis=1)\n",
        "  #print('sum_result_rows:\\n',sum_result_rows)\n",
        "  result_norm = result/sum_result_rows[:,None]\n",
        "  #print('result_norm:\\n',result_norm)\n",
        "\n",
        "  #class with maximum coeficients\n",
        "  result_class_decision = np.argmax(result_norm,axis=1)+7\n",
        "  #print('result_class_decision:\\n',result_class_decision)\n",
        "\n",
        "\n",
        "  with ExcelWriter(filepath) as writer:\n",
        "    pd.DataFrame(pred1).to_excel(writer,sheet_name = 'pred1' )\n",
        "    pd.DataFrame(result1).to_excel(writer,sheet_name = 'result1' )\n",
        "    pd.DataFrame(pred2).to_excel(writer,sheet_name = 'pred2' )\n",
        "    pd.DataFrame(result2).to_excel(writer,sheet_name = 'result2' )\n",
        "    pd.DataFrame(pred3).to_excel(writer,sheet_name = 'pred3' )\n",
        "    pd.DataFrame(result3).to_excel(writer,sheet_name = 'result3' )\n",
        "    pd.DataFrame(result).to_excel(writer,sheet_name = 'result' )\n",
        "    pd.DataFrame(sum_result_rows).to_excel(writer,sheet_name = 'sum_result_rows' )\n",
        "    pd.DataFrame(result_norm).to_excel(writer,sheet_name = 'result_norm' )\n",
        "    pd.DataFrame(result_class_decision).to_excel(writer,sheet_name = 'result_class_decision' )\n",
        "    writer.save()  \n",
        "\n",
        "  ######calculate error and confintervals#############\n",
        "  y_true = train_labels_all\n",
        "  y_pred = result_class_decision\n",
        "\n",
        "  cm,cm_norm = create_confusion_matrix(y_true, y_pred)\n",
        "  cm_norm = np.around(cm_norm*100,2)\n",
        "  df_cm = pd.DataFrame(cm,index = ['true_CL1','true_CL2','true_CL3'],columns=['pred_CL1','pred_CL2','pred_CL3'])\n",
        "  df_cm_norm = pd.DataFrame(cm_norm,index = ['true_CL1','true_CL2','true_CL3'],columns=['pred_CL1','pred_CL2','pred_CL3'])\n",
        "  print('confusion_matrix:\\n',df_cm)\n",
        "  print('confusion_matrix with normalization:\\n',df_cm_norm)\n",
        "  df_confmat_train_error,df_confmat_train_confint = error_estimate_new(df_cm,df_cm_norm)\n",
        "  print('confusion matrix error:\\n',df_confmat_train_error)\n",
        "  print('confusion matrix confidence intervals:\\n',df_confmat_train_confint)\n",
        "  #####################\n",
        "\n",
        "  return result_class_decision\n",
        "\n",
        "    "
      ],
      "execution_count": 0,
      "outputs": []
    },
    {
      "cell_type": "markdown",
      "metadata": {
        "id": "I6Zs3KSfNGlv",
        "colab_type": "text"
      },
      "source": [
        "# Code"
      ]
    },
    {
      "cell_type": "code",
      "metadata": {
        "id": "VJTZvIVGvJdv",
        "colab_type": "code",
        "colab": {}
      },
      "source": [
        "ds_filename = 'statisticallearning_datamining/datasets/HW4part2_DS.xlsx'\n",
        "df_totaldata = pd.read_excel(ds_filename)"
      ],
      "execution_count": 0,
      "outputs": []
    },
    {
      "cell_type": "code",
      "metadata": {
        "id": "X38uVcHc_gi1",
        "colab_type": "code",
        "colab": {}
      },
      "source": [
        "class_1 = 7\n",
        "class_2 = 8\n",
        "class_3 = 9"
      ],
      "execution_count": 0,
      "outputs": []
    },
    {
      "cell_type": "code",
      "metadata": {
        "id": "PyBMv8EX9mp7",
        "colab_type": "code",
        "outputId": "7dc3817f-c62d-42b9-d1b4-fea1a1e5f5b7",
        "colab": {
          "base_uri": "https://localhost:8080/",
          "height": 1000
        }
      },
      "source": [
        "df_totaldata.fillna(0,inplace=True)\n",
        "#describe total data \n",
        "print('############## Total data #######')\n",
        "dataset_describe(df_totaldata.drop(['label'],axis=1),df_totaldata['label'])\n",
        "\n",
        "#create train and test datasets\n",
        "prop = 80\n",
        "train_data,test_data,train_data_nolabel,train_labels_all,test_data_nolabel,test_labels_all = create_traintestdata(prop,df_totaldata)\n",
        "\n",
        "#describe trian and test data\n",
        "print('############# Train data #######')\n",
        "dataset_describe(train_data_nolabel,train_labels_all)\n",
        "\n",
        "train_data_nolabel.to_excel('train_data_nolabel.xlsx')\n",
        "\n",
        "\n",
        "\n",
        "#preprocessing for Train set\n",
        "######Step1: standardize train data########\n",
        "df_train_mean = train_data_nolabel.mean()\n",
        "df_train_std = train_data_nolabel.std()\n",
        "df_train_std = np.where(df_train_std == 0,1,df_train_std)\n",
        "\n",
        "train_data_nolabel = (train_data_nolabel - df_train_mean)/df_train_std\n",
        "train_data_nolabel.fillna(0,inplace=True)\n",
        "dataset_describe(train_data_nolabel,train_labels_all)\n",
        "\n",
        "###########Step2 : delete zero columns#########\n",
        "train_data_nolabel = remove_zerocolumns(train_data_nolabel.copy())\n",
        "\n",
        "\n",
        "print('############# Test data #######')\n",
        "dataset_describe(test_data_nolabel,test_labels_all)\n",
        "#preprocessing for Test set\n",
        "print('######Step1: standardize test data########')\n",
        "test_data_nolabel = (test_data_nolabel - df_train_mean)/df_train_std\n",
        "test_data_nolabel.fillna(0,inplace=True)\n",
        "\n",
        "dataset_describe(train_data_nolabel,train_labels_all)\n",
        "print('###########Step2 : delete zero columns#########')\n",
        "test_data_nolabel = remove_zerocolumns(test_data_nolabel.copy())\n",
        "\n",
        "print('#describe train and test data after preprocessing')\n",
        "dataset_describe(train_data_nolabel,train_labels_all)\n",
        "dataset_describe(test_data_nolabel,test_labels_all)\n",
        "\n",
        "#write to excel dataset\n",
        "filepath = 'preprocessed_data.xlsx'\n",
        "\n",
        "with ExcelWriter(filepath) as writer:\n",
        "    train_data.to_excel(writer,sheet_name = 'train_data' )\n",
        "    test_data.to_excel(writer,sheet_name = 'test_data' )\n",
        "    train_data_nolabel.to_excel(writer,sheet_name = 'train_data_nolabel' )\n",
        "    train_labels_all.to_excel(writer,sheet_name = 'train_labels_all' )\n",
        "    test_data_nolabel.to_excel(writer,sheet_name = 'test_data_nolabel' )\n",
        "    test_labels_all.to_excel(writer,sheet_name = 'test_labels_all' )\n",
        "    writer.save()  "
      ],
      "execution_count": 9,
      "outputs": [
        {
          "output_type": "stream",
          "text": [
            "############## Total data #######\n",
            "Name of class 1:7\tSize of class 1:2097\n",
            "Name of class 2:8\tSize of class 2:2107\n",
            "Name of class 3:9\tSize of class 3:2100\n",
            "\tSize of dataset:6304\n",
            "number of features in dataset:  784\n"
          ],
          "name": "stdout"
        },
        {
          "output_type": "display_data",
          "data": {
            "image/png": "[encoded data removed]",
            "text/plain": [
              "<Figure size 432x288 with 1 Axes>"
            ]
          },
          "metadata": {
            "tags": []
          }
        },
        {
          "output_type": "display_data",
          "data": {
            "image/png": "[encoded data removed]",
            "text/plain": [
              "<Figure size 432x288 with 1 Axes>"
            ]
          },
          "metadata": {
            "tags": []
          }
        },
        {
          "output_type": "display_data",
          "data": {
            "image/png": "[encoded data removed]",
            "text/plain": [
              "<Figure size 432x288 with 1 Axes>"
            ]
          },
          "metadata": {
            "tags": []
          }
        },
        {
          "output_type": "stream",
          "text": [
            "############# Train data #######\n",
            "Name of class 1:7\tSize of class 1:1677\n",
            "Name of class 2:8\tSize of class 2:1685\n",
            "Name of class 3:9\tSize of class 3:1680\n",
            "\tSize of dataset:5042\n",
            "number of features in dataset:  784\n"
          ],
          "name": "stdout"
        },
        {
          "output_type": "display_data",
          "data": {
            "image/png": "[encoded data removed]",
            "text/plain": [
              "<Figure size 432x288 with 1 Axes>"
            ]
          },
          "metadata": {
            "tags": []
          }
        },
        {
          "output_type": "display_data",
          "data": {
            "image/png": "[encoded data removed]",
            "text/plain": [
              "<Figure size 432x288 with 1 Axes>"
            ]
          },
          "metadata": {
            "tags": []
          }
        },
        {
          "output_type": "display_data",
          "data": {
            "image/png": "[encoded data removed]",
            "text/plain": [
              "<Figure size 432x288 with 1 Axes>"
            ]
          },
          "metadata": {
            "tags": []
          }
        },
        {
          "output_type": "stream",
          "text": [
            "Name of class 1:7\tSize of class 1:1677\n",
            "Name of class 2:8\tSize of class 2:1685\n",
            "Name of class 3:9\tSize of class 3:1680\n",
            "\tSize of dataset:5042\n",
            "number of features in dataset:  784\n"
          ],
          "name": "stdout"
        },
        {
          "output_type": "display_data",
          "data": {
            "image/png": "[encoded data removed]",
            "text/plain": [
              "<Figure size 432x288 with 1 Axes>"
            ]
          },
          "metadata": {
            "tags": []
          }
        },
        {
          "output_type": "display_data",
          "data": {
            "image/png": "[encoded data removed]",
            "text/plain": [
              "<Figure size 432x288 with 1 Axes>"
            ]
          },
          "metadata": {
            "tags": []
          }
        },
        {
          "output_type": "display_data",
          "data": {
            "image/png": "[encoded data removed]",
            "text/plain": [
              "<Figure size 432x288 with 1 Axes>"
            ]
          },
          "metadata": {
            "tags": []
          }
        },
        {
          "output_type": "stream",
          "text": [
            "############# Test data #######\n",
            "Name of class 1:7\tSize of class 1:420\n",
            "Name of class 2:8\tSize of class 2:422\n",
            "Name of class 3:9\tSize of class 3:420\n",
            "\tSize of dataset:1262\n",
            "number of features in dataset:  784\n"
          ],
          "name": "stdout"
        },
        {
          "output_type": "display_data",
          "data": {
            "image/png": "[encoded data removed]",
            "text/plain": [
              "<Figure size 432x288 with 1 Axes>"
            ]
          },
          "metadata": {
            "tags": []
          }
        },
        {
          "output_type": "display_data",
          "data": {
            "image/png": "[encoded data removed]",
            "text/plain": [
              "<Figure size 432x288 with 1 Axes>"
            ]
          },
          "metadata": {
            "tags": []
          }
        },
        {
          "output_type": "display_data",
          "data": {
            "image/png": "[encoded data removed]",
            "text/plain": [
              "<Figure size 432x288 with 1 Axes>"
            ]
          },
          "metadata": {
            "tags": []
          }
        },
        {
          "output_type": "stream",
          "text": [
            "######Step1: standardize test data########\n",
            "Name of class 1:7\tSize of class 1:1677\n",
            "Name of class 2:8\tSize of class 2:1685\n",
            "Name of class 3:9\tSize of class 3:1680\n",
            "\tSize of dataset:5042\n",
            "number of features in dataset:  599\n"
          ],
          "name": "stdout"
        },
        {
          "output_type": "display_data",
          "data": {
            "image/png": "[encoded data removed]",
            "text/plain": [
              "<Figure size 432x288 with 1 Axes>"
            ]
          },
          "metadata": {
            "tags": []
          }
        },
        {
          "output_type": "display_data",
          "data": {
            "image/png": "[encoded data removed]",
            "text/plain": [
              "<Figure size 432x288 with 1 Axes>"
            ]
          },
          "metadata": {
            "tags": []
          }
        },
        {
          "output_type": "display_data",
          "data": {
            "image/png": "[encoded data removed]",
            "text/plain": [
              "<Figure size 432x288 with 1 Axes>"
            ]
          },
          "metadata": {
            "tags": []
          }
        },
        {
          "output_type": "stream",
          "text": [
            "###########Step2 : delete zero columns#########\n",
            "#describe train and test data after preprocessing\n",
            "Name of class 1:7\tSize of class 1:1677\n",
            "Name of class 2:8\tSize of class 2:1685\n",
            "Name of class 3:9\tSize of class 3:1680\n",
            "\tSize of dataset:5042\n",
            "number of features in dataset:  599\n"
          ],
          "name": "stdout"
        },
        {
          "output_type": "display_data",
          "data": {
            "image/png": "[encoded data removed]",
            "text/plain": [
              "<Figure size 432x288 with 1 Axes>"
            ]
          },
          "metadata": {
            "tags": []
          }
        },
        {
          "output_type": "display_data",
          "data": {
            "image/png": "[encoded data removed]",
            "text/plain": [
              "<Figure size 432x288 with 1 Axes>"
            ]
          },
          "metadata": {
            "tags": []
          }
        },
        {
          "output_type": "display_data",
          "data": {
            "image/png": "[encoded data removed]",
            "text/plain": [
              "<Figure size 432x288 with 1 Axes>"
            ]
          },
          "metadata": {
            "tags": []
          }
        },
        {
          "output_type": "stream",
          "text": [
            "Name of class 1:7\tSize of class 1:420\n",
            "Name of class 2:8\tSize of class 2:422\n",
            "Name of class 3:9\tSize of class 3:420\n",
            "\tSize of dataset:1262\n",
            "number of features in dataset:  606\n"
          ],
          "name": "stdout"
        },
        {
          "output_type": "display_data",
          "data": {
            "image/png": "[encoded data removed]",
            "text/plain": [
              "<Figure size 432x288 with 1 Axes>"
            ]
          },
          "metadata": {
            "tags": []
          }
        },
        {
          "output_type": "display_data",
          "data": {
            "image/png": "[encoded data removed]",
            "text/plain": [
              "<Figure size 432x288 with 1 Axes>"
            ]
          },
          "metadata": {
            "tags": []
          }
        },
        {
          "output_type": "display_data",
          "data": {
            "image/png": "[encoded data removed]",
            "text/plain": [
              "<Figure size 432x288 with 1 Axes>"
            ]
          },
          "metadata": {
            "tags": []
          }
        }
      ]
    },
    {
      "cell_type": "markdown",
      "metadata": {
        "id": "8YPvFSKrU4vE",
        "colab_type": "text"
      },
      "source": [
        "# 2.8.for original discrete features which you kept in RDS:\n",
        "# compute and display the histograms of these values within each class"
      ]
    },
    {
      "cell_type": "markdown",
      "metadata": {
        "id": "cMcNEOgOOldY",
        "colab_type": "text"
      },
      "source": [
        "# PCA call"
      ]
    },
    {
      "cell_type": "code",
      "metadata": {
        "id": "ia7ov50HFIJl",
        "colab_type": "code",
        "outputId": "93aa16dd-b7bd-4999-82ba-0dfcb1476bbb",
        "colab": {
          "base_uri": "https://localhost:8080/",
          "height": 1000
        }
      },
      "source": [
        "pca = PCA(n_components=50)\n",
        "#fit train data\n",
        "train_data_reduced = pca.fit_transform(train_data_nolabel)  \n",
        "train_data_reduced = pd.DataFrame(train_data_reduced)\n",
        "print(np.sum(pca.explained_variance_ratio_) )\n",
        "dataset_describe(train_data_reduced,train_labels_all)\n",
        "\n",
        "#fit test data\n",
        "test_data_reduced = pca.fit_transform(test_data_nolabel)  \n",
        "test_data_reduced = pd.DataFrame(test_data_reduced)\n",
        "print(np.sum(pca.explained_variance_ratio_)) \n",
        "dataset_describe(test_data_reduced,test_labels_all)\n",
        "\n",
        "#write to excel\n",
        "filepath = 'reduced_data.xlsx'\n",
        "with ExcelWriter(filepath) as writer:\n",
        "    train_data_reduced.to_excel(writer,sheet_name = 'train_data_reduced' )\n",
        "    train_labels_all.to_excel(writer,sheet_name = 'train_labels_all' )\n",
        "    test_data_reduced.to_excel(writer,sheet_name = 'test_data_reduced' )\n",
        "    test_labels_all.to_excel(writer,sheet_name = 'test_labels_all' )\n",
        "    writer.save()  "
      ],
      "execution_count": 11,
      "outputs": [
        {
          "output_type": "stream",
          "text": [
            "0.6538061378985426\n",
            "Name of class 1:7\tSize of class 1:1677\n",
            "Name of class 2:8\tSize of class 2:1685\n",
            "Name of class 3:9\tSize of class 3:1680\n",
            "\tSize of dataset:5042\n",
            "number of features in dataset:  50\n"
          ],
          "name": "stdout"
        },
        {
          "output_type": "display_data",
          "data": {
            "image/png": "[encoded data removed]",
            "text/plain": [
              "<Figure size 432x288 with 1 Axes>"
            ]
          },
          "metadata": {
            "tags": []
          }
        },
        {
          "output_type": "display_data",
          "data": {
            "image/png": "[encoded data removed]",
            "text/plain": [
              "<Figure size 432x288 with 1 Axes>"
            ]
          },
          "metadata": {
            "tags": []
          }
        },
        {
          "output_type": "display_data",
          "data": {
            "image/png": "[encoded data removed]",
            "text/plain": [
              "<Figure size 432x288 with 1 Axes>"
            ]
          },
          "metadata": {
            "tags": []
          }
        },
        {
          "output_type": "stream",
          "text": [
            "0.9895063119549755\n",
            "Name of class 1:7\tSize of class 1:420\n",
            "Name of class 2:8\tSize of class 2:422\n",
            "Name of class 3:9\tSize of class 3:420\n",
            "\tSize of dataset:1262\n",
            "number of features in dataset:  50\n"
          ],
          "name": "stdout"
        },
        {
          "output_type": "display_data",
          "data": {
            "image/png": "[encoded data removed]",
            "text/plain": [
              "<Figure size 432x288 with 1 Axes>"
            ]
          },
          "metadata": {
            "tags": []
          }
        },
        {
          "output_type": "display_data",
          "data": {
            "image/png": "[encoded data removed]",
            "text/plain": [
              "<Figure size 432x288 with 1 Axes>"
            ]
          },
          "metadata": {
            "tags": []
          }
        },
        {
          "output_type": "display_data",
          "data": {
            "image/png": "[encoded data removed]",
            "text/plain": [
              "<Figure size 432x288 with 1 Axes>"
            ]
          },
          "metadata": {
            "tags": []
          }
        }
      ]
    },
    {
      "cell_type": "markdown",
      "metadata": {
        "id": "RxDy6kvx6IUX",
        "colab_type": "text"
      },
      "source": [
        "# Step 2: Re-evaluation of tuning :\n",
        "\n"
      ]
    },
    {
      "cell_type": "markdown",
      "metadata": {
        "id": "szWdxoyhVfNX",
        "colab_type": "text"
      },
      "source": [
        "# 2.1 Pick another two classes CL1 vs CL3 for instance and re-launch the tuning as above to see which pair of parameters {gamma, cost} are selected"
      ]
    },
    {
      "cell_type": "code",
      "metadata": {
        "id": "U1xPqOj1_ZUq",
        "colab_type": "code",
        "colab": {}
      },
      "source": [
        ""
      ],
      "execution_count": 0,
      "outputs": []
    },
    {
      "cell_type": "code",
      "metadata": {
        "id": "Wq11XrE9yToP",
        "colab_type": "code",
        "outputId": "97a590d2-dd5d-4e46-c1ad-def174167857",
        "colab": {
          "base_uri": "https://localhost:8080/",
          "height": 246
        }
      },
      "source": [
        "# tuning svm for reduced train dataset for class1 and class2\n",
        "class1 = class_1\n",
        "class2 = class_2\n",
        "\n",
        "train_data,train_labels = create_twoclass_dataset(train_data_reduced,train_labels_all,class1,class2)\n",
        "\n",
        "C_range = np.logspace(-2, 2, 5)\n",
        "gamma_range = np.logspace(-2, 2, 5)\n",
        "\n",
        "tuned_parameters = {'kernel': ['rbf'], 'C': C_range, 'gamma': gamma_range}\n",
        "nfolds = StratifiedShuffleSplit(n_splits=10, test_size=0.2, random_state=42)\n",
        "is_test = False\n",
        "\n",
        "best_params = tune(tuned_parameters,nfolds,is_test,train_data,train_labels)\n",
        "\n"
      ],
      "execution_count": 11,
      "outputs": [
        {
          "output_type": "error",
          "ename": "NameError",
          "evalue": "ignored",
          "traceback": [
            "\u001b[0;31m---------------------------------------------------------------------------\u001b[0m",
            "\u001b[0;31mNameError\u001b[0m                                 Traceback (most recent call last)",
            "\u001b[0;32m<ipython-input-11-c83f4e1f0dfb>\u001b[0m in \u001b[0;36m<module>\u001b[0;34m()\u001b[0m\n\u001b[0;32m----> 1\u001b[0;31m \u001b[0mclass1\u001b[0m \u001b[0;34m=\u001b[0m \u001b[0mclass_1\u001b[0m\u001b[0;34m\u001b[0m\u001b[0;34m\u001b[0m\u001b[0m\n\u001b[0m\u001b[1;32m      2\u001b[0m \u001b[0mclass2\u001b[0m \u001b[0;34m=\u001b[0m \u001b[0mclass_2\u001b[0m\u001b[0;34m\u001b[0m\u001b[0;34m\u001b[0m\u001b[0m\n\u001b[1;32m      3\u001b[0m \u001b[0;34m\u001b[0m\u001b[0m\n\u001b[1;32m      4\u001b[0m \u001b[0mtrain_data\u001b[0m\u001b[0;34m,\u001b[0m\u001b[0mtrain_labels\u001b[0m \u001b[0;34m=\u001b[0m \u001b[0mcreate_twoclass_dataset\u001b[0m\u001b[0;34m(\u001b[0m\u001b[0mtrain_data_reduced\u001b[0m\u001b[0;34m,\u001b[0m\u001b[0mtrain_labels_all\u001b[0m\u001b[0;34m,\u001b[0m\u001b[0mclass1\u001b[0m\u001b[0;34m,\u001b[0m\u001b[0mclass2\u001b[0m\u001b[0;34m)\u001b[0m\u001b[0;34m\u001b[0m\u001b[0;34m\u001b[0m\u001b[0m\n\u001b[1;32m      5\u001b[0m \u001b[0;34m\u001b[0m\u001b[0m\n",
            "\u001b[0;31mNameError\u001b[0m: name 'class_1' is not defined"
          ]
        }
      ]
    },
    {
      "cell_type": "code",
      "metadata": {
        "id": "0qgs2zbkqNNh",
        "colab_type": "code",
        "colab": {
          "base_uri": "https://localhost:8080/",
          "height": 54
        },
        "outputId": "c79857c3-ebe8-4823-c0e3-15eef8d408c8"
      },
      "source": [
        "print('C_range: ',C_range)\n",
        "print('gamma_range: ',gamma_range)"
      ],
      "execution_count": 227,
      "outputs": [
        {
          "output_type": "stream",
          "text": [
            "C_range:  [1.e-02 1.e-01 1.e+00 1.e+01 1.e+02]\n",
            "gamma_range:  [1.e-02 1.e-01 1.e+00 1.e+01 1.e+02]\n"
          ],
          "name": "stdout"
        }
      ]
    },
    {
      "cell_type": "code",
      "metadata": {
        "id": "TPoPmX7n59RI",
        "colab_type": "code",
        "outputId": "3ce5ec47-418b-4893-bb52-73ea41c60067",
        "colab": {
          "base_uri": "https://localhost:8080/",
          "height": 739
        }
      },
      "source": [
        "# tuning svm for reduced train dataset for class1 and class3\n",
        "class1 = class_1\n",
        "class2 = class_3\n",
        "train_data,train_labels = create_twoclass_dataset(train_data_reduced,train_labels_all,class1,class2)\n",
        "\n",
        "C_range = np.logspace(-2, 2, 5)\n",
        "gamma_range = np.logspace(-2, 2, 5)\n",
        "\n",
        "tuned_parameters = {'kernel': ['rbf'], 'C': C_range, 'gamma': gamma_range}\n",
        "nfolds = StratifiedShuffleSplit(n_splits=10, test_size=0.2, random_state=42)\n",
        "is_test = False\n",
        "\n",
        "\n",
        "best_params = tune(tuned_parameters,nfolds,is_test,train_data,train_labels)"
      ],
      "execution_count": 189,
      "outputs": [
        {
          "output_type": "stream",
          "text": [
            "creating dataset with 2 given classes:7,9 \n",
            "train_data size1:  1677\n",
            "train_data size total:  3357\n",
            "train_labels_1 class:\n",
            " 1677\n",
            "self.train_labels total:\n",
            " 3357\n",
            "kernel_type :  rbf\n",
            "------Fitting train data into svm model-----\n",
            "# Tuning hyper-parameters\n",
            "\n",
            "\n",
            "Best parameters set found on development set:\n",
            "\n",
            "{'C': 10.0, 'gamma': 0.01, 'kernel': 'rbf'}\n",
            "\n",
            "Grid scores on development set:\n",
            "\n",
            "in heatmap: rbf\n"
          ],
          "name": "stdout"
        },
        {
          "output_type": "display_data",
          "data": {
            "image/png": "[encoded data removed]",
            "text/plain": [
              "<Figure size 576x432 with 2 Axes>"
            ]
          },
          "metadata": {
            "tags": []
          }
        }
      ]
    },
    {
      "cell_type": "code",
      "metadata": {
        "id": "A7iOu6EiB3Ck",
        "colab_type": "code",
        "colab": {
          "base_uri": "https://localhost:8080/",
          "height": 72
        },
        "outputId": "91959c97-930e-4960-82a5-d5ea46edd446"
      },
      "source": [
        "parameters ={'kernel': ['rbf'], 'C': 0.1,'gamma' : 0.01}\n",
        "kernel_type = parameters['kernel'][0]\n",
        "print(kernel_type)\n",
        "gamma=parameters['gamma']\n",
        "print(gamma)\n",
        "C=parameters['C']\n",
        "print(C)\n"
      ],
      "execution_count": 25,
      "outputs": [
        {
          "output_type": "stream",
          "text": [
            "rbf\n",
            "0.01\n",
            "0.1\n"
          ],
          "name": "stdout"
        }
      ]
    },
    {
      "cell_type": "code",
      "metadata": {
        "id": "DC04rCHyuOWo",
        "colab_type": "code",
        "colab": {
          "base_uri": "https://localhost:8080/",
          "height": 1000
        },
        "outputId": "1b647155-7a80-4415-c0f4-96b9b21904ee"
      },
      "source": [
        "#########sample check for sv ratio\n",
        "#svm for class 1 vs class 3\n",
        "class1 = class_1\n",
        "class2 = class_2\n",
        "do_reduce = False\n",
        "\n",
        "train_data,train_labels = create_twoclass_dataset(train_data_reduced,train_labels_all,class1,class2)\n",
        "test_data,test_labels = create_twoclass_dataset(test_data_reduced,test_labels_all,class1,class2)\n",
        "\n",
        "#creating dicitionary for parameters\n",
        "#Build Radial kernel SVM with arbitrary cost and gamma\n",
        "parameters ={'kernel': ['rbf'], 'C': 0.1,'gamma' : 0.01}\n",
        "kernel_type = parameters['kernel'][0]\n",
        "\n",
        "svm_1,confmat_train_1 = svm_call(kernel_type,parameters,train_data,train_labels,test_data,test_labels)"
      ],
      "execution_count": 24,
      "outputs": [
        {
          "output_type": "stream",
          "text": [
            "creating dataset with 2 given classes:7,8 \n",
            "train_data size1:  1677\n",
            "train_data size total:  3362\n",
            "train_labels_1 class:\n",
            " 1677\n",
            "self.train_labels total:\n",
            " 3362\n",
            "creating dataset with 2 given classes:7,8 \n",
            "train_data size1:  420\n",
            "train_data size total:  842\n",
            "train_labels_1 class:\n",
            " 420\n",
            "self.train_labels total:\n",
            " 842\n",
            "kernel_type:  rbf\n",
            "------Fitting train data into svm model-----\n",
            "Score for above parameters in SVC model :  0.9458655562165378\n",
            "Number of Support vectors,S :  1783\n",
            "Ratio of Support vectors,s :  0.53\n",
            "Confusion matrix, without normalization\n",
            "[[1680    5]\n",
            " [ 177 1500]]\n",
            "Normalized confusion matrix\n",
            "[[0.99703264 0.00296736]\n",
            " [0.10554562 0.89445438]]\n",
            "confusion_matrix:\n",
            "            pred_CL1  pred_CL_1\n",
            "true_CL1       1680          5\n",
            "true_CL_1       177       1500\n",
            "confusion_matrix_norm:\n",
            "            pred_CL1  pred_CL_1\n",
            "true_CL1      99.70       0.30\n",
            "true_CL_1     10.55      89.45\n",
            "\n",
            "confmat_train_error:\n",
            "            pred_CL1  pred_CL_1\n",
            "true_CL1       0.13       0.13\n",
            "true_CL_1      0.75       0.75 \n",
            "confmat_train_confint:\n",
            "                     pred_CL1          pred_CL_1\n",
            "true_CL1   b'[99.45, 99.95]'    b'[0.05, 0.55]'\n",
            "true_CL_1   b'[9.08, 12.02]'  b'[87.98, 90.92]'\n",
            "------SVM applied on test set-----\n",
            "Score for above parameters in SVC model for testset :  0.2589073634204275\n",
            "total    94.586556\n",
            "cl1      89.445438\n",
            "cl_1     99.703264\n",
            "Name: pred, dtype: float64\n",
            "total    25.890736\n",
            "cl1       5.000000\n",
            "cl_1     46.682464\n",
            "Name: pred, dtype: float64\n",
            "Confusion matrix, without normalization\n",
            "[[197 225]\n",
            " [399  21]]\n",
            "Normalized confusion matrix\n",
            "[[0.46682464 0.53317536]\n",
            " [0.95       0.05      ]]\n",
            "confusion_matrix:\n",
            "            pred_CL1  pred_CL_1\n",
            "true_CL1        197        225\n",
            "true_CL_1       399         21\n",
            "confusion_matrix_norm:\n",
            "            pred_CL1  pred_CL_1\n",
            "true_CL1      46.68      53.32\n",
            "true_CL_1     95.00       5.00\n",
            "\n",
            "confmat_test_error:\n",
            "            pred_CL1  pred_CL_1\n",
            "true_CL1       2.43       2.43\n",
            "true_CL_1      1.06       1.06 \n",
            "confmat_test_confint:\n",
            "                     pred_CL1          pred_CL_1\n",
            "true_CL1   b'[41.92, 51.44]'  b'[48.56, 58.08]'\n",
            "true_CL_1  b'[92.92, 97.08]'    b'[2.92, 7.08]'\n"
          ],
          "name": "stdout"
        }
      ]
    },
    {
      "cell_type": "markdown",
      "metadata": {
        "id": "oc71_A2J6i9l",
        "colab_type": "text"
      },
      "source": [
        "# 2.2 Fix your own best parameters gamma and cost based on questions 1 & 2"
      ]
    },
    {
      "cell_type": "code",
      "metadata": {
        "id": "_i95-iw6OCvQ",
        "colab_type": "code",
        "colab": {}
      },
      "source": [
        "best_params = {'kernel': ['rbf'], 'C': 10,'gamma' : 0.01}"
      ],
      "execution_count": 0,
      "outputs": []
    },
    {
      "cell_type": "markdown",
      "metadata": {
        "id": "dvKybCvU7mzP",
        "colab_type": "text"
      },
      "source": [
        "# Question 3 : for the largest 3 classes CL1 CL2 CL3 , compute 3 SVMs\n",
        "Use the best parameters previously identified to train 3 svms :\n",
        "SVM1 to classify CL1 vs (not CL1)\n",
        "SVM2 to classify CL2 vs (not CL2)\n",
        "SVM3 to classify CL3 vs (not CL3)"
      ]
    },
    {
      "cell_type": "code",
      "metadata": {
        "id": "ZLp-UDgx71pU",
        "colab_type": "code",
        "outputId": "aeb19c96-2009-4957-f267-e3afe636ca01",
        "colab": {
          "base_uri": "https://localhost:8080/",
          "height": 1000
        }
      },
      "source": [
        "\n",
        "#svm for class 1 vs (not class 1)\n",
        "class_r =class_1\n",
        "do_reduce = False\n",
        "\n",
        "train_data,train_labels = create_data_cl_r(class_r,train_data_reduced,train_labels_all,do_reduce)\n",
        "test_data,test_labels = create_data_cl_r(class_r,test_data_reduced,test_labels_all,do_reduce)\n",
        "\n",
        "#creating dicitionary for parameters\n",
        "#Build Radial kernel SVM with arbitrary cost and gamma\n",
        "parameters =best_params\n",
        "kernel_type = parameters['kernel'][0]\n",
        "\n",
        "svm_1,confmat_train_1 = svm_call(kernel_type,parameters,train_data,train_labels,test_data,test_labels)\n",
        "# cm_svm1_train = confusion_matrix( train_labels,svm_1.predict(train_data))\n",
        "# print(cm_svm1_train)\n",
        "# cm_svm1_test = confusion_matrix( test_labels,svm_1.predict(test_data))\n",
        "# print(cm_svm1_test)\n"
      ],
      "execution_count": 244,
      "outputs": [
        {
          "output_type": "stream",
          "text": [
            "data size1:  1677\n",
            "data_labels_1 class:\n",
            " 1677\n",
            "data size total:  5042\n",
            "data_labels total:\n",
            " 5042\n",
            "data size1:  420\n",
            "data_labels_1 class:\n",
            " 420\n",
            "data size total:  1262\n",
            "data_labels total:\n",
            " 1262\n",
            "kernel_type:  rbf\n",
            "------Fitting train data into svm model-----\n",
            "Score for above parameters in SVC model :  1.0\n",
            "Number of Support vectors,S :  1756\n",
            "Ratio of Support vectors,s :  0.35\n",
            "Confusion matrix, without normalization\n",
            "[[3365    0]\n",
            " [   0 1677]]\n",
            "Normalized confusion matrix\n",
            "[[1. 0.]\n",
            " [0. 1.]]\n",
            "confusion_matrix:\n",
            "            pred_CL1  pred_CL_1\n",
            "true_CL1       3365          0\n",
            "true_CL_1         0       1677\n",
            "confusion_matrix_norm:\n",
            "            pred_CL1  pred_CL_1\n",
            "true_CL1      100.0        0.0\n",
            "true_CL_1       0.0      100.0\n",
            "\n",
            "confmat_train_error:\n",
            "            pred_CL1  pred_CL_1\n",
            "true_CL1        0.0        0.0\n",
            "true_CL_1       0.0        0.0 \n",
            "confmat_train_confint:\n",
            "                     pred_CL1          pred_CL_1\n",
            "true_CL1   b'[100.0, 100.0]'      b'[0.0, 0.0]'\n",
            "true_CL_1      b'[0.0, 0.0]'  b'[100.0, 100.0]'\n",
            "------SVM applied on test set-----\n",
            "Score for above parameters in SVC model for testset :  0.6553090332805072\n",
            "total    100.0\n",
            "cl1      100.0\n",
            "cl_1     100.0\n",
            "Name: pred, dtype: float64\n",
            "total    65.530903\n",
            "cl1       2.380952\n",
            "cl_1     97.030879\n",
            "Name: pred, dtype: float64\n",
            "Confusion matrix, without normalization\n",
            "[[817  25]\n",
            " [410  10]]\n",
            "Normalized confusion matrix\n",
            "[[0.97 0.03]\n",
            " [0.98 0.02]]\n",
            "confusion_matrix:\n",
            "            pred_CL1  pred_CL_1\n",
            "true_CL1        817         25\n",
            "true_CL_1       410         10\n",
            "confusion_matrix_norm:\n",
            "            pred_CL1  pred_CL_1\n",
            "true_CL1      97.03       2.97\n",
            "true_CL_1     97.62       2.38\n",
            "\n",
            "confmat_test_error:\n",
            "            pred_CL1  pred_CL_1\n",
            "true_CL1       0.59       0.59\n",
            "true_CL_1      0.74       0.74 \n",
            "confmat_test_confint:\n",
            "                     pred_CL1        pred_CL_1\n",
            "true_CL1   b'[95.87, 98.19]'  b'[1.81, 4.13]'\n",
            "true_CL_1  b'[96.17, 99.07]'  b'[0.93, 3.83]'\n"
          ],
          "name": "stdout"
        }
      ]
    },
    {
      "cell_type": "code",
      "metadata": {
        "id": "XhjcADHZIrYh",
        "colab_type": "code",
        "outputId": "8a97f7cf-a563-48a8-c367-5f76eec6d735",
        "colab": {
          "base_uri": "https://localhost:8080/",
          "height": 1000
        }
      },
      "source": [
        "#svm for class 2 vs (not class 2)\n",
        "class_r =class_2\n",
        "do_reduce = False\n",
        "train_data,train_labels = create_data_cl_r(class_r,train_data_reduced,train_labels_all,do_reduce)\n",
        "test_data,test_labels = create_data_cl_r(class_r,test_data_reduced,test_labels_all,do_reduce)\n",
        "\n",
        "#creating dicitionary for parameters\n",
        "#Build Radial kernel SVM with arbitrary cost and gamma\n",
        "parameters =best_params\n",
        "kernel_type = parameters['kernel'][0]\n",
        "\n",
        "svm_2,confmat_train_2 = svm_call(kernel_type,parameters,train_data,train_labels,test_data,test_labels)"
      ],
      "execution_count": 245,
      "outputs": [
        {
          "output_type": "stream",
          "text": [
            "data size1:  1685\n",
            "data_labels_1 class:\n",
            " 1685\n",
            "data size total:  5042\n",
            "data_labels total:\n",
            " 5042\n",
            "data size1:  422\n",
            "data_labels_1 class:\n",
            " 422\n",
            "data size total:  1262\n",
            "data_labels total:\n",
            " 1262\n",
            "kernel_type:  rbf\n",
            "------Fitting train data into svm model-----\n",
            "Score for above parameters in SVC model :  1.0\n",
            "Number of Support vectors,S :  1646\n",
            "Ratio of Support vectors,s :  0.33\n",
            "Confusion matrix, without normalization\n",
            "[[3357    0]\n",
            " [   0 1685]]\n",
            "Normalized confusion matrix\n",
            "[[1. 0.]\n",
            " [0. 1.]]\n",
            "confusion_matrix:\n",
            "            pred_CL1  pred_CL_1\n",
            "true_CL1       3357          0\n",
            "true_CL_1         0       1685\n",
            "confusion_matrix_norm:\n",
            "            pred_CL1  pred_CL_1\n",
            "true_CL1      100.0        0.0\n",
            "true_CL_1       0.0      100.0\n",
            "\n",
            "confmat_train_error:\n",
            "            pred_CL1  pred_CL_1\n",
            "true_CL1        0.0        0.0\n",
            "true_CL_1       0.0        0.0 \n",
            "confmat_train_confint:\n",
            "                     pred_CL1          pred_CL_1\n",
            "true_CL1   b'[100.0, 100.0]'      b'[0.0, 0.0]'\n",
            "true_CL_1      b'[0.0, 0.0]'  b'[100.0, 100.0]'\n",
            "------SVM applied on test set-----\n",
            "Score for above parameters in SVC model for testset :  0.5055467511885895\n",
            "total    100.0\n",
            "cl1      100.0\n",
            "cl_1     100.0\n",
            "Name: pred, dtype: float64\n",
            "total    50.554675\n",
            "cl1       0.710900\n",
            "cl_1     75.595238\n",
            "Name: pred, dtype: float64\n",
            "Confusion matrix, without normalization\n",
            "[[635 205]\n",
            " [419   3]]\n",
            "Normalized confusion matrix\n",
            "[[0.76 0.24]\n",
            " [0.99 0.01]]\n",
            "confusion_matrix:\n",
            "            pred_CL1  pred_CL_1\n",
            "true_CL1        635        205\n",
            "true_CL_1       419          3\n",
            "confusion_matrix_norm:\n",
            "            pred_CL1  pred_CL_1\n",
            "true_CL1      75.60      24.40\n",
            "true_CL_1     99.29       0.71\n",
            "\n",
            "confmat_test_error:\n",
            "            pred_CL1  pred_CL_1\n",
            "true_CL1       1.48       1.48\n",
            "true_CL_1      0.41       0.41 \n",
            "confmat_test_confint:\n",
            "                   pred_CL1        pred_CL_1\n",
            "true_CL1   b'[72.7, 78.5]'  b'[21.5, 27.3]'\n",
            "true_CL_1  b'[98.49, 100]'     b'[0, 1.51]'\n"
          ],
          "name": "stdout"
        }
      ]
    },
    {
      "cell_type": "code",
      "metadata": {
        "id": "akUZhGPULRjV",
        "colab_type": "code",
        "outputId": "c515c7cf-c67c-4b9f-a63d-199d8cb223e6",
        "colab": {
          "base_uri": "https://localhost:8080/",
          "height": 1000
        }
      },
      "source": [
        "#svm for class 3 vs (not class 3)\n",
        "class_r =class_3\n",
        "do_reduce = False\n",
        "\n",
        "train_data,train_labels = create_data_cl_r(class_r,train_data_reduced,train_labels_all,do_reduce)\n",
        "test_data,test_labels = create_data_cl_r(class_r,test_data_reduced,test_labels_all,do_reduce)\n",
        "\n",
        "#creating dicitionary for parameters\n",
        "#Build Radial kernel SVM with arbitrary cost and gamma\n",
        "parameters = best_params\n",
        "kernel_type = parameters['kernel'][0]\n",
        "\n",
        "svm_3,confmat_train_3 = svm_call(kernel_type,parameters,train_data,train_labels,test_data,test_labels)"
      ],
      "execution_count": 246,
      "outputs": [
        {
          "output_type": "stream",
          "text": [
            "data size1:  1680\n",
            "data_labels_1 class:\n",
            " 1680\n",
            "data size total:  5042\n",
            "data_labels total:\n",
            " 5042\n",
            "data size1:  420\n",
            "data_labels_1 class:\n",
            " 420\n",
            "data size total:  1262\n",
            "data_labels total:\n",
            " 1262\n",
            "kernel_type:  rbf\n",
            "------Fitting train data into svm model-----\n",
            "Score for above parameters in SVC model :  1.0\n",
            "Number of Support vectors,S :  1770\n",
            "Ratio of Support vectors,s :  0.35\n",
            "Confusion matrix, without normalization\n",
            "[[3362    0]\n",
            " [   0 1680]]\n",
            "Normalized confusion matrix\n",
            "[[1. 0.]\n",
            " [0. 1.]]\n",
            "confusion_matrix:\n",
            "            pred_CL1  pred_CL_1\n",
            "true_CL1       3362          0\n",
            "true_CL_1         0       1680\n",
            "confusion_matrix_norm:\n",
            "            pred_CL1  pred_CL_1\n",
            "true_CL1      100.0        0.0\n",
            "true_CL_1       0.0      100.0\n",
            "\n",
            "confmat_train_error:\n",
            "            pred_CL1  pred_CL_1\n",
            "true_CL1        0.0        0.0\n",
            "true_CL_1       0.0        0.0 \n",
            "confmat_train_confint:\n",
            "                     pred_CL1          pred_CL_1\n",
            "true_CL1   b'[100.0, 100.0]'      b'[0.0, 0.0]'\n",
            "true_CL_1      b'[0.0, 0.0]'  b'[100.0, 100.0]'\n",
            "------SVM applied on test set-----\n",
            "Score for above parameters in SVC model for testset :  0.7131537242472267\n",
            "total    100.0\n",
            "cl1      100.0\n",
            "cl_1     100.0\n",
            "Name: pred, dtype: float64\n",
            "total    71.315372\n",
            "cl1      30.238095\n",
            "cl_1     91.805226\n",
            "Name: pred, dtype: float64\n",
            "Confusion matrix, without normalization\n",
            "[[773  69]\n",
            " [293 127]]\n",
            "Normalized confusion matrix\n",
            "[[0.92 0.08]\n",
            " [0.7  0.3 ]]\n",
            "confusion_matrix:\n",
            "            pred_CL1  pred_CL_1\n",
            "true_CL1        773         69\n",
            "true_CL_1       293        127\n",
            "confusion_matrix_norm:\n",
            "            pred_CL1  pred_CL_1\n",
            "true_CL1      91.81       8.19\n",
            "true_CL_1     69.76      30.24\n",
            "\n",
            "confmat_test_error:\n",
            "            pred_CL1  pred_CL_1\n",
            "true_CL1       0.94       0.94\n",
            "true_CL_1      2.24       2.24 \n",
            "confmat_test_confint:\n",
            "                     pred_CL1          pred_CL_1\n",
            "true_CL1   b'[89.97, 93.65]'   b'[6.35, 10.03]'\n",
            "true_CL_1  b'[65.37, 74.15]'  b'[25.85, 34.63]'\n"
          ],
          "name": "stdout"
        }
      ]
    },
    {
      "cell_type": "markdown",
      "metadata": {
        "id": "NUY2F6E-P3CA",
        "colab_type": "text"
      },
      "source": [
        "# Question 4 : for the largest 3 classes CL1 CL2 CL3 , combine the three SVMs to classify all cases"
      ]
    },
    {
      "cell_type": "markdown",
      "metadata": {
        "id": "u87GsJAXQG9q",
        "colab_type": "text"
      },
      "source": [
        "# 4.1 describe precisely for each new case x in Rp , how you can combine the three\n",
        "classifications of x provided by SVM1 SVM2 SVM3 , taking account of their confusion matrices, in order\n",
        "to obtain a terminal classification of x into one of the 3 classes CL1 CL2 CL3"
      ]
    },
    {
      "cell_type": "code",
      "metadata": {
        "id": "3ZAZSTPVQOb7",
        "colab_type": "code",
        "outputId": "75148bcc-05c6-4d73-bea8-6a21f922f361",
        "colab": {
          "base_uri": "https://localhost:8080/",
          "height": 237
        }
      },
      "source": [
        "print('confmat_train_1:\\n',confmat_train_1)\n",
        "print('confmat_train_2:\\n',confmat_train_2)\n",
        "print('confmat_train_3:\\n',confmat_train_3)"
      ],
      "execution_count": 247,
      "outputs": [
        {
          "output_type": "stream",
          "text": [
            "confmat_train_1:\n",
            "            pred_CL1  pred_CL_1\n",
            "true_CL1      100.0        0.0\n",
            "true_CL_1       0.0      100.0\n",
            "confmat_train_2:\n",
            "            pred_CL1  pred_CL_1\n",
            "true_CL1      100.0        0.0\n",
            "true_CL_1       0.0      100.0\n",
            "confmat_train_3:\n",
            "            pred_CL1  pred_CL_1\n",
            "true_CL1      100.0        0.0\n",
            "true_CL_1       0.0      100.0\n"
          ],
          "name": "stdout"
        }
      ]
    },
    {
      "cell_type": "code",
      "metadata": {
        "id": "ZEWz0yBvSWrG",
        "colab_type": "code",
        "outputId": "278bde25-807f-46e1-f265-2a41718915ce",
        "colab": {
          "base_uri": "https://localhost:8080/",
          "height": 143
        }
      },
      "source": [
        "#assigning values to composite confusion matrix\n",
        "a11 = confmat_train_1.loc['true_CL1','pred_CL1']\n",
        "a22 = confmat_train_1.loc['true_CL_1','pred_CL_1']\n",
        "b11 = confmat_train_2.loc['true_CL1','pred_CL1']\n",
        "b22 = confmat_train_2.loc['true_CL_1','pred_CL_1']\n",
        "c11 = confmat_train_3.loc['true_CL1','pred_CL1']\n",
        "c22 = confmat_train_3.loc['true_CL_1','pred_CL_1']\n",
        "index_comp_CM = ['svm1','svm2','svm3']\n",
        "data_comp_CM = {'class_1':np.around([a11,b22/2,c22/2]),\n",
        "                   'class_2':np.around([a22/2,b11,c22/2]),\n",
        "                   'class_3':np.around([a22/2,b22/2,c11])}\n",
        "\n",
        "\n",
        "df_decision_CM = pd.DataFrame(data_comp_CM,index = index_comp_CM)/100\n",
        "sum_comp_CM = np.sum(np.sum(df_decision_CM))\n",
        "df_decision_CM\n",
        "\n"
      ],
      "execution_count": 248,
      "outputs": [
        {
          "output_type": "execute_result",
          "data": {
            "text/html": [
              "<div>\n",
              "<style scoped>\n",
              "    .dataframe tbody tr th:only-of-type {\n",
              "        vertical-align: middle;\n",
              "    }\n",
              "\n",
              "    .dataframe tbody tr th {\n",
              "        vertical-align: top;\n",
              "    }\n",
              "\n",
              "    .dataframe thead th {\n",
              "        text-align: right;\n",
              "    }\n",
              "</style>\n",
              "<table border=\"1\" class=\"dataframe\">\n",
              "  <thead>\n",
              "    <tr style=\"text-align: right;\">\n",
              "      <th></th>\n",
              "      <th>class_1</th>\n",
              "      <th>class_2</th>\n",
              "      <th>class_3</th>\n",
              "    </tr>\n",
              "  </thead>\n",
              "  <tbody>\n",
              "    <tr>\n",
              "      <th>svm1</th>\n",
              "      <td>1.0</td>\n",
              "      <td>0.5</td>\n",
              "      <td>0.5</td>\n",
              "    </tr>\n",
              "    <tr>\n",
              "      <th>svm2</th>\n",
              "      <td>0.5</td>\n",
              "      <td>1.0</td>\n",
              "      <td>0.5</td>\n",
              "    </tr>\n",
              "    <tr>\n",
              "      <th>svm3</th>\n",
              "      <td>0.5</td>\n",
              "      <td>0.5</td>\n",
              "      <td>1.0</td>\n",
              "    </tr>\n",
              "  </tbody>\n",
              "</table>\n",
              "</div>"
            ],
            "text/plain": [
              "      class_1  class_2  class_3\n",
              "svm1      1.0      0.5      0.5\n",
              "svm2      0.5      1.0      0.5\n",
              "svm3      0.5      0.5      1.0"
            ]
          },
          "metadata": {
            "tags": []
          },
          "execution_count": 248
        }
      ]
    },
    {
      "cell_type": "markdown",
      "metadata": {
        "id": "CMvvQ0rZ1Cf4",
        "colab_type": "text"
      },
      "source": [
        "# 4.2 Implement and run this combined classification on all x in CL1 CL2 CL3 which belong to TRAIN"
      ]
    },
    {
      "cell_type": "code",
      "metadata": {
        "id": "Z2MP9kpv5PYL",
        "colab_type": "code",
        "outputId": "e094730f-e169-4227-e255-98eb7f952d90",
        "colab": {
          "base_uri": "https://localhost:8080/",
          "height": 531
        }
      },
      "source": [
        "pred_train_labels = predict_final(train_data_reduced,train_labels_all,svm_1,svm_2,svm_3)\n"
      ],
      "execution_count": 250,
      "outputs": [
        {
          "output_type": "stream",
          "text": [
            "Confusion matrix, without normalization\n",
            "[[1677    0    0]\n",
            " [   0 1685    0]\n",
            " [   0    0 1680]]\n",
            "Normalized confusion matrix\n",
            "[[1. 0. 0.]\n",
            " [0. 1. 0.]\n",
            " [0. 0. 1.]]\n",
            "confusion_matrix:\n",
            "           pred_CL1  pred_CL2  pred_CL3\n",
            "true_CL1      1677         0         0\n",
            "true_CL2         0      1685         0\n",
            "true_CL3         0         0      1680\n",
            "confusion_matrix with normalization:\n",
            "           pred_CL1  pred_CL2  pred_CL3\n",
            "true_CL1     100.0       0.0       0.0\n",
            "true_CL2       0.0     100.0       0.0\n",
            "true_CL3       0.0       0.0     100.0\n",
            "confusion matrix error:\n",
            "           pred_CL1  pred_CL2  pred_CL3\n",
            "true_CL1       0.0       0.0       0.0\n",
            "true_CL2       0.0       0.0       0.0\n",
            "true_CL3       0.0       0.0       0.0\n",
            "confusion matrix confidence intervals:\n",
            "                    pred_CL1           pred_CL2           pred_CL3\n",
            "true_CL1  b'[100.0, 100.0]'      b'[0.0, 0.0]'      b'[0.0, 0.0]'\n",
            "true_CL2      b'[0.0, 0.0]'  b'[100.0, 100.0]'      b'[0.0, 0.0]'\n",
            "true_CL3      b'[0.0, 0.0]'      b'[0.0, 0.0]'  b'[100.0, 100.0]'\n"
          ],
          "name": "stdout"
        }
      ]
    },
    {
      "cell_type": "markdown",
      "metadata": {
        "id": "_yP-Eec2-Oz9",
        "colab_type": "text"
      },
      "source": [
        "# TEMP practice"
      ]
    },
    {
      "cell_type": "code",
      "metadata": {
        "id": "6oVNL6LHRkVs",
        "colab_type": "code",
        "colab": {}
      },
      "source": [
        "\n",
        "\n",
        "\n",
        "y_true = test_labels_all\n",
        "y_pred = pred_test_labels\n",
        "class_names = y_true\n",
        "# Plot non-normalized confusion matrix\n",
        "plot_confusion_matrix(y_true, y_pred, classes=class_names,\n",
        "                      title='Confusion matrix, without normalization')\n",
        "\n",
        "# Plot normalized confusion matrix\n",
        "plot_confusion_matrix(y_true, y_pred, classes=class_names, normalize=True,\n",
        "                      title='Normalized confusion matrix')\n",
        "\n",
        "plt.show()"
      ],
      "execution_count": 0,
      "outputs": []
    },
    {
      "cell_type": "code",
      "metadata": {
        "id": "FG1PzkW7DTwf",
        "colab_type": "code",
        "colab": {}
      },
      "source": [
        "pred1 = np.array([1,-1])\n",
        "print(pred1)\n",
        "#expanding 1 column redictions to 3 column matrix \n",
        "matr11 = np.asmatrix(pred1).T\n",
        "matr21 = np.repeat(matr11,3,axis=1)\n",
        "\n",
        "#masking 3 column array to binary rows\n",
        "matr21 = np.where(matr21>0,[1,0,0],[0,1,1])\n",
        "print(matr21)\n",
        "#multiplying wiht decision matrix corresponding row with svm result\n",
        "mat_decision_CM = np.matrix(df_decision_CM)\n",
        "result1 = matr21*np.array(mat_decision_CM[0])\n",
        "print(result1)"
      ],
      "execution_count": 0,
      "outputs": []
    },
    {
      "cell_type": "code",
      "metadata": {
        "id": "BJr-77pgEDRY",
        "colab_type": "code",
        "colab": {}
      },
      "source": [
        "pred2 = np.array([-1,1])\n",
        "print(pred2)\n",
        "matr12 = np.asmatrix(pred2).T\n",
        "matr22 = np.repeat(matr12,3,axis=1)\n",
        "\n",
        "#masking 3 column array to binary rows\n",
        "matr22 = np.where(matr22>0,[0,1,0],[1,0,1])\n",
        "print(matr22)\n",
        "#multiplying wiht decision matrix corresponding row with svm result\n",
        "mat_decision_CM = np.matrix(df_decision_CM)\n",
        "result2 = matr22*np.array(mat_decision_CM[1])\n",
        "print(result2)"
      ],
      "execution_count": 0,
      "outputs": []
    },
    {
      "cell_type": "code",
      "metadata": {
        "id": "FmwO27bGEFo7",
        "colab_type": "code",
        "colab": {}
      },
      "source": [
        "pred3 = np.array([-1,1])\n",
        "print(pred3)\n",
        "matr13 = np.asmatrix(pred3).T\n",
        "matr23 = np.repeat(matr13,3,axis=1)\n",
        "\n",
        "#masking 3 column array to binary rows\n",
        "matr23 = np.where(matr23>0,[0,0,1],[1,1,0])\n",
        "print(matr23)\n",
        "#multiplying wiht decision matrix corresponding row with svm result\n",
        "mat_decision_CM = np.matrix(df_decision_CM)\n",
        "result3 = matr23*np.array(mat_decision_CM[2])\n",
        "print(result3)"
      ],
      "execution_count": 0,
      "outputs": []
    },
    {
      "cell_type": "code",
      "metadata": {
        "id": "e-Yt0uNZGfvH",
        "colab_type": "code",
        "colab": {}
      },
      "source": [
        "result = result1+result2+result3\n",
        "result"
      ],
      "execution_count": 0,
      "outputs": []
    },
    {
      "cell_type": "code",
      "metadata": {
        "id": "QYXEA65LGon5",
        "colab_type": "code",
        "colab": {}
      },
      "source": [
        "  #normalising by decision matrix sum\n",
        "  sum_result_rows = np.sum(result,axis=1)\n",
        "  print(sum_result_rows)\n",
        "  result_norm = result/sum_result_rows[:,None]\n",
        "  result_norm"
      ],
      "execution_count": 0,
      "outputs": []
    },
    {
      "cell_type": "code",
      "metadata": {
        "id": "Eg51toohJGq5",
        "colab_type": "code",
        "colab": {}
      },
      "source": [
        "#class with maximum coeficients\n",
        "result_classes = np.argmax(result_norm,axis=1)+1\n",
        "result_classes"
      ],
      "execution_count": 0,
      "outputs": []
    },
    {
      "cell_type": "code",
      "metadata": {
        "id": "aTbB-RrNK7av",
        "colab_type": "code",
        "colab": {}
      },
      "source": [
        "result_classes == 1"
      ],
      "execution_count": 0,
      "outputs": []
    },
    {
      "cell_type": "code",
      "metadata": {
        "id": "O78LkT2d7Vn8",
        "colab_type": "code",
        "colab": {}
      },
      "source": [
        "train_predict1 = np.array([1,1,-1,-1])\n",
        "matr1 = np.asmatrix(train_predict1).T\n",
        "matr2 = np.repeat(matr1,3,axis=1)\n",
        "matr2 = np.where(matr2>0,[1,0,0],[0,1,1])\n",
        "matr2"
      ],
      "execution_count": 0,
      "outputs": []
    },
    {
      "cell_type": "code",
      "metadata": {
        "id": "wAR19VOoAjkh",
        "colab_type": "code",
        "outputId": "88cc40e5-2a79-440f-fa18-e0d6a9edbe84",
        "colab": {
          "base_uri": "https://localhost:8080/",
          "height": 90
        }
      },
      "source": [
        "train_predict1 = np.array([-1,1,1,-1])\n",
        "matr3 = np.asmatrix(train_predict1).T\n",
        "matr4 = np.repeat(matr3,3,axis=1)\n",
        "\n",
        "matr4 = np.where(matr4>0,[1,0,0],[0,1,1])\n",
        "matr4"
      ],
      "execution_count": 0,
      "outputs": [
        {
          "output_type": "execute_result",
          "data": {
            "text/plain": [
              "array([[0, 1, 1],\n",
              "       [1, 0, 0],\n",
              "       [1, 0, 0],\n",
              "       [0, 1, 1]])"
            ]
          },
          "metadata": {
            "tags": []
          },
          "execution_count": 124
        }
      ]
    },
    {
      "cell_type": "code",
      "metadata": {
        "id": "8wMrcp1gB2C_",
        "colab_type": "code",
        "outputId": "fa068f68-577b-4bbd-ba30-2a7d3890a0d0",
        "colab": {
          "base_uri": "https://localhost:8080/",
          "height": 90
        }
      },
      "source": [
        "mat_decision_CM = np.matrix(df_decision_CM)\n",
        "matr2*np.array(mat_decision_CM[0])"
      ],
      "execution_count": 0,
      "outputs": [
        {
          "output_type": "execute_result",
          "data": {
            "text/plain": [
              "array([[1. , 0. , 0. ],\n",
              "       [1. , 0. , 0. ],\n",
              "       [0. , 0.5, 0.5],\n",
              "       [0. , 0.5, 0.5]])"
            ]
          },
          "metadata": {
            "tags": []
          },
          "execution_count": 134
        }
      ]
    },
    {
      "cell_type": "markdown",
      "metadata": {
        "id": "8S0g2nah1HLl",
        "colab_type": "text"
      },
      "source": [
        "# 4.3.Do the same operation on all x in CL1 CL2 CL3 which belong to TEST"
      ]
    },
    {
      "cell_type": "code",
      "metadata": {
        "id": "3tjIjYJd9T_B",
        "colab_type": "code",
        "colab": {
          "base_uri": "https://localhost:8080/",
          "height": 531
        },
        "outputId": "b8fecb1c-c77e-42e6-8747-062eb063fe75"
      },
      "source": [
        "pred_test_labels = predict_final(test_data_reduced,test_labels_all,svm_1,svm_2,svm_3)\n"
      ],
      "execution_count": 251,
      "outputs": [
        {
          "output_type": "stream",
          "text": [
            "Confusion matrix, without normalization\n",
            "[[235 167  18]\n",
            " [371   3  48]\n",
            " [256  37 127]]\n",
            "Normalized confusion matrix\n",
            "[[0.56 0.4  0.04]\n",
            " [0.88 0.01 0.11]\n",
            " [0.61 0.09 0.3 ]]\n",
            "confusion_matrix:\n",
            "           pred_CL1  pred_CL2  pred_CL3\n",
            "true_CL1       235       167        18\n",
            "true_CL2       371         3        48\n",
            "true_CL3       256        37       127\n",
            "confusion_matrix with normalization:\n",
            "           pred_CL1  pred_CL2  pred_CL3\n",
            "true_CL1     55.95     39.76      4.29\n",
            "true_CL2     87.91      0.71     11.37\n",
            "true_CL3     60.95      8.81     30.24\n",
            "confusion matrix error:\n",
            "           pred_CL1  pred_CL2  pred_CL3\n",
            "true_CL1      2.42      2.39      0.99\n",
            "true_CL2      1.59      0.41      1.55\n",
            "true_CL3      2.38      1.38      2.24\n",
            "confusion matrix confidence intervals:\n",
            "                    pred_CL1           pred_CL2           pred_CL3\n",
            "true_CL1  b'[51.21, 60.69]'  b'[35.08, 44.44]'    b'[2.35, 6.23]'\n",
            "true_CL2  b'[84.79, 91.03]'       b'[0, 1.51]'   b'[8.33, 14.41]'\n",
            "true_CL3  b'[56.29, 65.61]'   b'[6.11, 11.51]'  b'[25.85, 34.63]'\n"
          ],
          "name": "stdout"
        }
      ]
    },
    {
      "cell_type": "markdown",
      "metadata": {
        "id": "nZjyZ8d41J_A",
        "colab_type": "text"
      },
      "source": [
        "#4.4 Compute the associated two confusion matrices (which will be 3x3 matrices) and compare them"
      ]
    },
    {
      "cell_type": "markdown",
      "metadata": {
        "id": "V1Otc-moUOZf",
        "colab_type": "text"
      },
      "source": [
        "# 5.Repeat the whole preceding procedure using the polynomial kernel (K(x,y) = (1+<x,y>)2 .\n",
        "There will be only one parameter to estimate by tuning, namely the Cost parameter. Compare the final\n",
        "performance results to the approach using radial kernels"
      ]
    },
    {
      "cell_type": "code",
      "metadata": {
        "id": "E11tGVQL58C6",
        "colab_type": "code",
        "colab": {
          "base_uri": "https://localhost:8080/",
          "height": 35
        },
        "outputId": "3b7a46c9-5e70-4da1-ce11-3dd58e20450c"
      },
      "source": [
        "C_range"
      ],
      "execution_count": 253,
      "outputs": [
        {
          "output_type": "execute_result",
          "data": {
            "text/plain": [
              "array([1.e-02, 1.e-01, 1.e+00, 1.e+01, 1.e+02])"
            ]
          },
          "metadata": {
            "tags": []
          },
          "execution_count": 253
        }
      ]
    },
    {
      "cell_type": "code",
      "metadata": {
        "colab_type": "code",
        "outputId": "7f57728c-2865-44d6-9bd5-5365c136ec1b",
        "id": "SDzvLWYZVnT2",
        "colab": {
          "base_uri": "https://localhost:8080/",
          "height": 774
        }
      },
      "source": [
        "# tuning svm for reduced train dataset for class1 and class2\n",
        "class1 = class_1\n",
        "class2 = class_2\n",
        "\n",
        "train_data,train_labels = create_twoclass_dataset(train_data_reduced,train_labels_all,class1,class2)\n",
        "\n",
        "C_range = np.logspace(-2, 2, 5)\n",
        "tuned_parameters = {'kernel': ['poly'], 'C': C_range, 'coef0' : [1],'gamma': [1],'degree':[2]}\n",
        "\n",
        "nfolds = StratifiedShuffleSplit(n_splits=10, test_size=0.2, random_state=42)\n",
        "is_test = False\n",
        "\n",
        "best_params = tune(tuned_parameters,nfolds,is_test,train_data,train_labels)\n",
        "\n"
      ],
      "execution_count": 13,
      "outputs": [
        {
          "output_type": "stream",
          "text": [
            "creating dataset with 2 given classes:7,8 \n",
            "train_data size1:  1677\n",
            "train_data size total:  3362\n",
            "train_labels_1 class:\n",
            " 1677\n",
            "self.train_labels total:\n",
            " 3362\n",
            "kernel_type :  poly\n",
            "------Fitting train data into svm model-----\n",
            "# Tuning hyper-parameters\n",
            "\n",
            "\n",
            "Best parameters set found on development set:\n",
            "\n",
            "{'C': 0.01, 'coef0': 1, 'degree': 2, 'gamma': 1, 'kernel': 'poly'}\n",
            "\n",
            "Grid scores on development set:\n",
            "\n",
            "in heatmap: poly\n"
          ],
          "name": "stdout"
        },
        {
          "output_type": "display_data",
          "data": {
            "image/png": "[encoded data removed]",
            "text/plain": [
              "<Figure size 576x432 with 2 Axes>"
            ]
          },
          "metadata": {
            "tags": []
          }
        }
      ]
    },
    {
      "cell_type": "code",
      "metadata": {
        "id": "s6kdHzoLBLu6",
        "colab_type": "code",
        "colab": {
          "base_uri": "https://localhost:8080/",
          "height": 109
        },
        "outputId": "f427639a-bfad-48b2-94fd-0170bae3490c"
      },
      "source": [
        "parameters ={'kernel': ['poly'], 'C': [0.01], 'coef0' : [1],'gamma': [1],'degree':[2]}\n",
        "kernel_type = parameters['kernel'][0]\n",
        "print(kernel_type)\n",
        "print(parameters['degree'])\n",
        "print(parameters['coef0'])\n",
        "print(parameters['gamma'])\n",
        "print(parameters['C'])"
      ],
      "execution_count": 23,
      "outputs": [
        {
          "output_type": "stream",
          "text": [
            "poly\n",
            "[2]\n",
            "[1]\n",
            "[1]\n",
            "[0.01]\n"
          ],
          "name": "stdout"
        }
      ]
    },
    {
      "cell_type": "code",
      "metadata": {
        "id": "0zOFvc2m9H4A",
        "colab_type": "code",
        "colab": {
          "base_uri": "https://localhost:8080/",
          "height": 1000
        },
        "outputId": "310047cc-3a3c-478a-d12f-507f950fec55"
      },
      "source": [
        "#########sample check for sv ratio\n",
        "#svm for class 1 vs class 3\n",
        "class1 = class_2\n",
        "class2 = class_3\n",
        "do_reduce = False\n",
        "\n",
        "train_data,train_labels = create_twoclass_dataset(train_data_reduced,train_labels_all,class1,class2)\n",
        "test_data,test_labels = create_twoclass_dataset(test_data_reduced,test_labels_all,class1,class2)\n",
        "\n",
        "#creating dicitionary for parameters\n",
        "#Build Poly kernel SVM with arbitrary cost and gamma\n",
        "\n",
        "parameters ={'kernel': ['poly'], 'C': 10, 'coef0' : 1,'gamma': 1,'degree':2}\n",
        "\n",
        "kernel_type = parameters['kernel'][0]\n",
        "\n",
        "svm_1,confmat_train_1 = svm_call(kernel_type,parameters,train_data,train_labels,test_data,test_labels)"
      ],
      "execution_count": 42,
      "outputs": [
        {
          "output_type": "stream",
          "text": [
            "creating dataset with 2 given classes:8,9 \n",
            "train_data size1:  1685\n",
            "train_data size total:  3365\n",
            "train_labels_1 class:\n",
            " 1685\n",
            "self.train_labels total:\n",
            " 3365\n",
            "creating dataset with 2 given classes:8,9 \n",
            "train_data size1:  422\n",
            "train_data size total:  842\n",
            "train_labels_1 class:\n",
            " 422\n",
            "self.train_labels total:\n",
            " 842\n",
            "kernel_type:  poly\n",
            "------Fitting train data into svm model-----\n",
            "Score for above parameters in SVC model :  1.0\n",
            "Number of Support vectors,S :  233\n",
            "Ratio of Support vectors,s :  0.07\n",
            "Confusion matrix, without normalization\n",
            "[[1680    0]\n",
            " [   0 1685]]\n",
            "Normalized confusion matrix\n",
            "[[1. 0.]\n",
            " [0. 1.]]\n",
            "confusion_matrix:\n",
            "            pred_CL1  pred_CL_1\n",
            "true_CL1       1680          0\n",
            "true_CL_1         0       1685\n",
            "confusion_matrix_norm:\n",
            "            pred_CL1  pred_CL_1\n",
            "true_CL1      100.0        0.0\n",
            "true_CL_1       0.0      100.0\n",
            "\n",
            "confmat_train_error:\n",
            "            pred_CL1  pred_CL_1\n",
            "true_CL1        0.0        0.0\n",
            "true_CL_1       0.0        0.0 \n",
            "confmat_train_confint:\n",
            "                     pred_CL1          pred_CL_1\n",
            "true_CL1   b'[100.0, 100.0]'      b'[0.0, 0.0]'\n",
            "true_CL_1      b'[0.0, 0.0]'  b'[100.0, 100.0]'\n",
            "------SVM applied on test set-----\n",
            "Score for above parameters in SVC model for testset :  0.38836104513064135\n",
            "total    100.0\n",
            "cl1      100.0\n",
            "cl_1     100.0\n",
            "Name: pred, dtype: float64\n",
            "total    38.836105\n",
            "cl1      45.497630\n",
            "cl_1     32.142857\n",
            "Name: pred, dtype: float64\n",
            "Confusion matrix, without normalization\n",
            "[[135 285]\n",
            " [230 192]]\n",
            "Normalized confusion matrix\n",
            "[[0.32142857 0.67857143]\n",
            " [0.5450237  0.4549763 ]]\n",
            "confusion_matrix:\n",
            "            pred_CL1  pred_CL_1\n",
            "true_CL1        135        285\n",
            "true_CL_1       230        192\n",
            "confusion_matrix_norm:\n",
            "            pred_CL1  pred_CL_1\n",
            "true_CL1      32.14      67.86\n",
            "true_CL_1     54.50      45.50\n",
            "\n",
            "confmat_test_error:\n",
            "            pred_CL1  pred_CL_1\n",
            "true_CL1       2.28       2.28\n",
            "true_CL_1      2.42       2.42 \n",
            "confmat_test_confint:\n",
            "                     pred_CL1          pred_CL_1\n",
            "true_CL1   b'[27.67, 36.61]'  b'[63.39, 72.33]'\n",
            "true_CL_1  b'[49.76, 59.24]'  b'[40.76, 50.24]'\n"
          ],
          "name": "stdout"
        }
      ]
    },
    {
      "cell_type": "code",
      "metadata": {
        "colab_type": "code",
        "id": "8zSUf_oBUNGe",
        "colab": {
          "base_uri": "https://localhost:8080/",
          "height": 774
        },
        "outputId": "223b4dd9-af97-4348-b698-88665bb0fd14"
      },
      "source": [
        "# tuning svm for reduced train dataset for class1 and class3\n",
        "class1 = class_2\n",
        "class2 = class_3\n",
        "train_data,train_labels = create_twoclass_dataset(train_data_reduced,train_labels_all,class1,class2)\n",
        "\n",
        "C_range = np.logspace(-2, 2, 5)\n",
        "\n",
        "tuned_parameters = {'kernel': ['poly'], 'C': C_range, 'coef0' : [1],'gamma': [1],'degree':[2]}\n",
        "\n",
        "nfolds = StratifiedShuffleSplit(n_splits=10, test_size=0.2, random_state=42)\n",
        "is_test = False\n",
        "\n",
        "best_params = tune(tuned_parameters,nfolds,is_test,train_data,train_labels)"
      ],
      "execution_count": 38,
      "outputs": [
        {
          "output_type": "stream",
          "text": [
            "creating dataset with 2 given classes:8,9 \n",
            "train_data size1:  1685\n",
            "train_data size total:  3365\n",
            "train_labels_1 class:\n",
            " 1685\n",
            "self.train_labels total:\n",
            " 3365\n",
            "kernel_type :  poly\n",
            "------Fitting train data into svm model-----\n",
            "# Tuning hyper-parameters\n",
            "\n",
            "\n",
            "Best parameters set found on development set:\n",
            "\n",
            "{'C': 0.01, 'coef0': 1, 'degree': 2, 'gamma': 1, 'kernel': 'poly'}\n",
            "\n",
            "Grid scores on development set:\n",
            "\n",
            "in heatmap: poly\n"
          ],
          "name": "stdout"
        },
        {
          "output_type": "display_data",
          "data": {
            "image/png": "[encoded data removed]",
            "text/plain": [
              "<Figure size 576x432 with 2 Axes>"
            ]
          },
          "metadata": {
            "tags": []
          }
        }
      ]
    },
    {
      "cell_type": "code",
      "metadata": {
        "colab_type": "code",
        "id": "HJGGS3ZAWN5X",
        "colab": {}
      },
      "source": [
        "best_params = {'C': 0.01, 'coef0': 1, 'gamma': 1, 'kernel': ['poly']}"
      ],
      "execution_count": 0,
      "outputs": []
    },
    {
      "cell_type": "code",
      "metadata": {
        "colab_type": "code",
        "outputId": "d4c7912d-a9d6-4fc0-e233-1eee796f9b51",
        "id": "kCJ6KFulWZn_",
        "colab": {
          "base_uri": "https://localhost:8080/",
          "height": 596
        }
      },
      "source": [
        "#svm for class 1 vs (not class 1)\n",
        "class_r =class_1\n",
        "do_reduce = False\n",
        "\n",
        "train_data,train_labels = create_data_cl_r(class_r,train_data_reduced,train_labels_all,do_reduce)\n",
        "test_data,test_labels = create_data_cl_r(class_r,test_data_reduced,test_labels_all,do_reduce)\n",
        "\n",
        "#creating dicitionary for parameters\n",
        "#Build Poly kernel SVM with arbitrary cost and gamma\n",
        "parameters =best_params\n",
        "kernel_type = parameters['kernel'][0]\n",
        "\n",
        "svm_1,confmat_train_1 = svm_call(kernel_type,parameters,train_data,train_labels,test_data,test_labels)\n"
      ],
      "execution_count": 13,
      "outputs": [
        {
          "output_type": "stream",
          "text": [
            "data size1:  1677\n",
            "data_labels_1 class:\n",
            " 1677\n",
            "data size total:  5042\n",
            "data_labels total:\n",
            " 5042\n",
            "data size1:  420\n",
            "data_labels_1 class:\n",
            " 420\n",
            "data size total:  1262\n",
            "data_labels total:\n",
            " 1262\n",
            "kernel_type:  poly\n"
          ],
          "name": "stdout"
        },
        {
          "output_type": "error",
          "ename": "KeyError",
          "evalue": "ignored",
          "traceback": [
            "\u001b[0;31m---------------------------------------------------------------------------\u001b[0m",
            "\u001b[0;31mKeyError\u001b[0m                                  Traceback (most recent call last)",
            "\u001b[0;32m<ipython-input-13-b34c67f6665a>\u001b[0m in \u001b[0;36m<module>\u001b[0;34m()\u001b[0m\n\u001b[1;32m     10\u001b[0m \u001b[0mkernel_type\u001b[0m \u001b[0;34m=\u001b[0m \u001b[0mparameters\u001b[0m\u001b[0;34m[\u001b[0m\u001b[0;34m'kernel'\u001b[0m\u001b[0;34m]\u001b[0m\u001b[0;34m[\u001b[0m\u001b[0;36m0\u001b[0m\u001b[0;34m]\u001b[0m\u001b[0;34m\u001b[0m\u001b[0;34m\u001b[0m\u001b[0m\n\u001b[1;32m     11\u001b[0m \u001b[0;34m\u001b[0m\u001b[0m\n\u001b[0;32m---> 12\u001b[0;31m \u001b[0msvm_1\u001b[0m\u001b[0;34m,\u001b[0m\u001b[0mconfmat_train_1\u001b[0m \u001b[0;34m=\u001b[0m \u001b[0msvm_call\u001b[0m\u001b[0;34m(\u001b[0m\u001b[0mkernel_type\u001b[0m\u001b[0;34m,\u001b[0m\u001b[0mparameters\u001b[0m\u001b[0;34m,\u001b[0m\u001b[0mtrain_data\u001b[0m\u001b[0;34m,\u001b[0m\u001b[0mtrain_labels\u001b[0m\u001b[0;34m,\u001b[0m\u001b[0mtest_data\u001b[0m\u001b[0;34m,\u001b[0m\u001b[0mtest_labels\u001b[0m\u001b[0;34m)\u001b[0m\u001b[0;34m\u001b[0m\u001b[0;34m\u001b[0m\u001b[0m\n\u001b[0m",
            "\u001b[0;32m<ipython-input-4-f7a15e191179>\u001b[0m in \u001b[0;36msvm_call\u001b[0;34m(kernel_type, parameters, train_data, train_labels, test_data, test_labels)\u001b[0m\n\u001b[1;32m    175\u001b[0m   \u001b[0;32melif\u001b[0m \u001b[0mkernel_type\u001b[0m \u001b[0;34m==\u001b[0m \u001b[0;34m'poly'\u001b[0m\u001b[0;34m:\u001b[0m\u001b[0;34m\u001b[0m\u001b[0;34m\u001b[0m\u001b[0m\n\u001b[1;32m    176\u001b[0m     \u001b[0mprint\u001b[0m\u001b[0;34m(\u001b[0m\u001b[0;34m'kernel_type: '\u001b[0m\u001b[0;34m,\u001b[0m\u001b[0mkernel_type\u001b[0m\u001b[0;34m)\u001b[0m\u001b[0;34m\u001b[0m\u001b[0;34m\u001b[0m\u001b[0m\n\u001b[0;32m--> 177\u001b[0;31m     svm_master = SVC(kernel=kernel_type,degree = parameters['degree'],coef0 = parameters['coef0'],\n\u001b[0m\u001b[1;32m    178\u001b[0m                      gamma = parameters['gamma'],C = parameters['C'])\n\u001b[1;32m    179\u001b[0m \u001b[0;34m\u001b[0m\u001b[0m\n",
            "\u001b[0;31mKeyError\u001b[0m: 'degree'"
          ]
        }
      ]
    },
    {
      "cell_type": "code",
      "metadata": {
        "colab_type": "code",
        "outputId": "a2ffa668-c440-4697-a3c4-3fca65408a82",
        "id": "t70_Ke2ZWjbK",
        "colab": {
          "base_uri": "https://localhost:8080/",
          "height": 1000
        }
      },
      "source": [
        "#svm for class 2 vs (not class 2)\n",
        "class_r =class_2\n",
        "do_reduce = False\n",
        "train_data,train_labels = create_data_cl_r(class_r,train_data_reduced,train_labels_all,do_reduce)\n",
        "test_data,test_labels = create_data_cl_r(class_r,test_data_reduced,test_labels_all,do_reduce)\n",
        "\n",
        "#creating dicitionary for parameters\n",
        "#Build Radial kernel SVM with arbitrary cost and gamma\n",
        "parameters =best_params\n",
        "kernel_type = parameters['kernel'][0]\n",
        "\n",
        "svm_2,confmat_train_2 = svm_call(kernel_type,parameters,train_data,train_labels,test_data,test_labels)"
      ],
      "execution_count": 221,
      "outputs": [
        {
          "output_type": "stream",
          "text": [
            "data size1:  1685\n",
            "data_labels_1 class:\n",
            " 1685\n",
            "data size total:  5042\n",
            "data_labels total:\n",
            " 5042\n",
            "data size1:  422\n",
            "data_labels_1 class:\n",
            " 422\n",
            "data size total:  1262\n",
            "data_labels total:\n",
            " 1262\n",
            "kernel_type:  poly\n",
            "------Fitting train data into svm model-----\n",
            "Score for above parameters in SVC model :  1.0\n",
            "Number of Support vectors,S :  749\n",
            "Ratio of Support vectors,s :  0.15\n",
            "Confusion matrix, without normalization\n",
            "[[3357    0]\n",
            " [   0 1685]]\n",
            "Normalized confusion matrix\n",
            "[[1. 0.]\n",
            " [0. 1.]]\n",
            "confusion_matrix:\n",
            "            pred_CL1  pred_CL_1\n",
            "true_CL1       3357          0\n",
            "true_CL_1         0       1685\n",
            "confusion_matrix_norm:\n",
            "            pred_CL1  pred_CL_1\n",
            "true_CL1      100.0        0.0\n",
            "true_CL_1       0.0      100.0\n",
            "\n",
            "confmat_train_error:\n",
            "            pred_CL1  pred_CL_1\n",
            "true_CL1        0.0        0.0\n",
            "true_CL_1       0.0        0.0 \n",
            "confmat_train_confint:\n",
            "                     pred_CL1          pred_CL_1\n",
            "true_CL1   b'[100.0, 100.0]'      b'[0.0, 0.0]'\n",
            "true_CL_1      b'[0.0, 0.0]'  b'[100.0, 100.0]'\n",
            "------SVM applied on test set-----\n",
            "Score for above parameters in SVC model for testset :  0.5935023771790808\n",
            "total    100.0\n",
            "cl1      100.0\n",
            "cl_1     100.0\n",
            "Name: pred, dtype: float64\n",
            "total    59.350238\n",
            "cl1      12.559242\n",
            "cl_1     82.857143\n",
            "Name: pred, dtype: float64\n",
            "Confusion matrix, without normalization\n",
            "[[696 144]\n",
            " [369  53]]\n",
            "Normalized confusion matrix\n",
            "[[0.83 0.17]\n",
            " [0.87 0.13]]\n",
            "confusion_matrix:\n",
            "            pred_CL1  pred_CL_1\n",
            "true_CL1        696        144\n",
            "true_CL_1       369         53\n",
            "confusion_matrix_norm:\n",
            "            pred_CL1  pred_CL_1\n",
            "true_CL1      82.86      17.14\n",
            "true_CL_1     87.44      12.56\n",
            "\n",
            "confmat_test_error:\n",
            "            pred_CL1  pred_CL_1\n",
            "true_CL1       1.30       1.30\n",
            "true_CL_1      1.61       1.61 \n",
            "confmat_test_confint:\n",
            "                     pred_CL1          pred_CL_1\n",
            "true_CL1   b'[80.31, 85.41]'  b'[14.59, 19.69]'\n",
            "true_CL_1   b'[84.28, 90.6]'    b'[9.4, 15.72]'\n"
          ],
          "name": "stdout"
        }
      ]
    },
    {
      "cell_type": "code",
      "metadata": {
        "colab_type": "code",
        "outputId": "c3d0047b-20bc-45e8-d03a-09c09c25ecef",
        "id": "xAscUmoWWq8i",
        "colab": {
          "base_uri": "https://localhost:8080/",
          "height": 1000
        }
      },
      "source": [
        "#svm for class 3 vs (not class 3)\n",
        "class_r =class_3\n",
        "do_reduce = False\n",
        "\n",
        "train_data,train_labels = create_data_cl_r(class_r,train_data_reduced,train_labels_all,do_reduce)\n",
        "test_data,test_labels = create_data_cl_r(class_r,test_data_reduced,test_labels_all,do_reduce)\n",
        "\n",
        "#creating dicitionary for parameters\n",
        "#Build Radial kernel SVM with arbitrary cost and gamma\n",
        "parameters = best_params\n",
        "kernel_type = parameters['kernel'][0]\n",
        "\n",
        "svm_3,confmat_train_3 = svm_call(kernel_type,parameters,train_data,train_labels,test_data,test_labels)"
      ],
      "execution_count": 213,
      "outputs": [
        {
          "output_type": "stream",
          "text": [
            "data size1:  1680\n",
            "data_labels_1 class:\n",
            " 1680\n",
            "data size total:  5042\n",
            "data_labels total:\n",
            " 5042\n",
            "data size1:  420\n",
            "data_labels_1 class:\n",
            " 420\n",
            "data size total:  1262\n",
            "data_labels total:\n",
            " 1262\n",
            "kernel_type:  poly\n",
            "------Fitting train data into svm model-----\n",
            "Score for above parameters in SVC model :  1.0\n",
            "Number of Support vectors,S :  834\n",
            "Ratio of Support vectors,s :  0.17\n",
            "Confusion matrix, without normalization\n",
            "[[3362    0]\n",
            " [   0 1680]]\n",
            "Normalized confusion matrix\n",
            "[[1. 0.]\n",
            " [0. 1.]]\n",
            "confusion_matrix:\n",
            "            pred_CL1  pred_CL_1\n",
            "true_CL1       3362          0\n",
            "true_CL_1         0       1680\n",
            "confusion_matrix_norm:\n",
            "            pred_CL1  pred_CL_1\n",
            "true_CL1      100.0        0.0\n",
            "true_CL_1       0.0      100.0\n",
            "\n",
            "confmat_train_error:\n",
            "            pred_CL1  pred_CL_1\n",
            "true_CL1        0.0        0.0\n",
            "true_CL_1       0.0        0.0 \n",
            "confmat_train_confint:\n",
            "                     pred_CL1          pred_CL_1\n",
            "true_CL1   b'[100.0, 100.0]'      b'[0.0, 0.0]'\n",
            "true_CL_1      b'[0.0, 0.0]'  b'[100.0, 100.0]'\n",
            "------SVM applied on test set-----\n",
            "Score for above parameters in SVC model for testset :  0.6053882725832013\n",
            "total    100.0\n",
            "cl1      100.0\n",
            "cl_1     100.0\n",
            "Name: pred, dtype: float64\n",
            "total    60.538827\n",
            "cl1      32.857143\n",
            "cl_1     74.346793\n",
            "Name: pred, dtype: float64\n",
            "Confusion matrix, without normalization\n",
            "[[626 216]\n",
            " [282 138]]\n",
            "Normalized confusion matrix\n",
            "[[0.74 0.26]\n",
            " [0.67 0.33]]\n",
            "confusion_matrix:\n",
            "            pred_CL1  pred_CL_1\n",
            "true_CL1        626        216\n",
            "true_CL_1       282        138\n",
            "confusion_matrix_norm:\n",
            "            pred_CL1  pred_CL_1\n",
            "true_CL1      74.35      25.65\n",
            "true_CL_1     67.14      32.86\n",
            "\n",
            "confmat_test_error:\n",
            "            pred_CL1  pred_CL_1\n",
            "true_CL1       1.50       1.50\n",
            "true_CL_1      2.29       2.29 \n",
            "confmat_test_confint:\n",
            "                     pred_CL1          pred_CL_1\n",
            "true_CL1   b'[71.41, 77.29]'  b'[22.71, 28.59]'\n",
            "true_CL_1  b'[62.65, 71.63]'  b'[28.37, 37.35]'\n"
          ],
          "name": "stdout"
        }
      ]
    },
    {
      "cell_type": "code",
      "metadata": {
        "colab_type": "code",
        "outputId": "cf88a90c-2024-4098-ef25-72f13ecf2173",
        "id": "ME2PGj3OW2to",
        "colab": {
          "base_uri": "https://localhost:8080/",
          "height": 237
        }
      },
      "source": [
        "print('confmat_train_1:\\n',confmat_train_1)\n",
        "print('confmat_train_2:\\n',confmat_train_2)\n",
        "print('confmat_train_3:\\n',confmat_train_3)"
      ],
      "execution_count": 214,
      "outputs": [
        {
          "output_type": "stream",
          "text": [
            "confmat_train_1:\n",
            "            pred_CL1  pred_CL_1\n",
            "true_CL1      100.0        0.0\n",
            "true_CL_1       0.0      100.0\n",
            "confmat_train_2:\n",
            "            pred_CL1  pred_CL_1\n",
            "true_CL1      100.0        0.0\n",
            "true_CL_1       0.0      100.0\n",
            "confmat_train_3:\n",
            "            pred_CL1  pred_CL_1\n",
            "true_CL1      100.0        0.0\n",
            "true_CL_1       0.0      100.0\n"
          ],
          "name": "stdout"
        }
      ]
    },
    {
      "cell_type": "code",
      "metadata": {
        "colab_type": "code",
        "outputId": "4074048f-5546-45e4-bf1a-bcb058615727",
        "id": "gJblrUg_W8rg",
        "colab": {
          "base_uri": "https://localhost:8080/",
          "height": 143
        }
      },
      "source": [
        "#assigning values to composite confusion matrix\n",
        "a11 = confmat_train_1.loc['true_CL1','pred_CL1']\n",
        "a22 = confmat_train_1.loc['true_CL_1','pred_CL_1']\n",
        "b11 = confmat_train_2.loc['true_CL1','pred_CL1']\n",
        "b22 = confmat_train_2.loc['true_CL_1','pred_CL_1']\n",
        "c11 = confmat_train_3.loc['true_CL1','pred_CL1']\n",
        "c22 = confmat_train_3.loc['true_CL_1','pred_CL_1']\n",
        "index_comp_CM = ['svm1','svm2','svm3']\n",
        "data_comp_CM = {'class_1':np.around([a11,b22/2,c22/2]),\n",
        "                   'class_2':np.around([a22/2,b11,c22/2]),\n",
        "                   'class_3':np.around([a22/2,b22/2,c11])}\n",
        "\n",
        "\n",
        "df_decision_CM = pd.DataFrame(data_comp_CM,index = index_comp_CM)/100\n",
        "sum_comp_CM = np.sum(np.sum(df_decision_CM))\n",
        "df_decision_CM\n",
        "\n"
      ],
      "execution_count": 222,
      "outputs": [
        {
          "output_type": "execute_result",
          "data": {
            "text/html": [
              "<div>\n",
              "<style scoped>\n",
              "    .dataframe tbody tr th:only-of-type {\n",
              "        vertical-align: middle;\n",
              "    }\n",
              "\n",
              "    .dataframe tbody tr th {\n",
              "        vertical-align: top;\n",
              "    }\n",
              "\n",
              "    .dataframe thead th {\n",
              "        text-align: right;\n",
              "    }\n",
              "</style>\n",
              "<table border=\"1\" class=\"dataframe\">\n",
              "  <thead>\n",
              "    <tr style=\"text-align: right;\">\n",
              "      <th></th>\n",
              "      <th>class_1</th>\n",
              "      <th>class_2</th>\n",
              "      <th>class_3</th>\n",
              "    </tr>\n",
              "  </thead>\n",
              "  <tbody>\n",
              "    <tr>\n",
              "      <th>svm1</th>\n",
              "      <td>1.0</td>\n",
              "      <td>0.5</td>\n",
              "      <td>0.5</td>\n",
              "    </tr>\n",
              "    <tr>\n",
              "      <th>svm2</th>\n",
              "      <td>0.5</td>\n",
              "      <td>1.0</td>\n",
              "      <td>0.5</td>\n",
              "    </tr>\n",
              "    <tr>\n",
              "      <th>svm3</th>\n",
              "      <td>0.5</td>\n",
              "      <td>0.5</td>\n",
              "      <td>1.0</td>\n",
              "    </tr>\n",
              "  </tbody>\n",
              "</table>\n",
              "</div>"
            ],
            "text/plain": [
              "      class_1  class_2  class_3\n",
              "svm1      1.0      0.5      0.5\n",
              "svm2      0.5      1.0      0.5\n",
              "svm3      0.5      0.5      1.0"
            ]
          },
          "metadata": {
            "tags": []
          },
          "execution_count": 222
        }
      ]
    },
    {
      "cell_type": "code",
      "metadata": {
        "colab_type": "code",
        "outputId": "458b3e3b-4d08-40be-d59d-449358ec9780",
        "id": "9lAE6sFGXIvw",
        "colab": {
          "base_uri": "https://localhost:8080/",
          "height": 458
        }
      },
      "source": [
        "pred_train_labels = predict_final(train_data_reduced,train_labels_all,svm_1,svm_2,svm_3)\n"
      ],
      "execution_count": 223,
      "outputs": [
        {
          "output_type": "stream",
          "text": [
            "Confusion matrix, without normalization\n",
            "[[1677    0    0]\n",
            " [   0 1685    0]\n",
            " [   0    0 1680]]\n",
            "Normalized confusion matrix\n",
            "[[1. 0. 0.]\n",
            " [0. 1. 0.]\n",
            " [0. 0. 1.]]\n",
            "          pred_CL1  pred_CL2  pred_CL3\n",
            "true_CL1      1677         0         0\n",
            "true_CL2         0      1685         0\n",
            "true_CL3         0         0      1680\n",
            "          pred_CL1  pred_CL2  pred_CL3\n",
            "true_CL1     100.0       0.0       0.0\n",
            "true_CL2       0.0     100.0       0.0\n",
            "true_CL3       0.0       0.0     100.0\n",
            "          pred_CL1  pred_CL2  pred_CL3\n",
            "true_CL1       0.0       0.0       0.0\n",
            "true_CL2       0.0       0.0       0.0\n",
            "true_CL3       0.0       0.0       0.0\n",
            "                   pred_CL1           pred_CL2           pred_CL3\n",
            "true_CL1  b'[100.0, 100.0]'      b'[0.0, 0.0]'      b'[0.0, 0.0]'\n",
            "true_CL2      b'[0.0, 0.0]'  b'[100.0, 100.0]'      b'[0.0, 0.0]'\n",
            "true_CL3      b'[0.0, 0.0]'      b'[0.0, 0.0]'  b'[100.0, 100.0]'\n"
          ],
          "name": "stdout"
        }
      ]
    },
    {
      "cell_type": "code",
      "metadata": {
        "colab_type": "code",
        "outputId": "db9f368c-e3d8-478e-89bf-0e20c3996f90",
        "id": "7VYcCpT2XYHe",
        "colab": {
          "base_uri": "https://localhost:8080/",
          "height": 458
        }
      },
      "source": [
        "pred_test_labels = predict_final(test_data_reduced,test_labels_all,svm_1,svm_2,svm_3)\n"
      ],
      "execution_count": 224,
      "outputs": [
        {
          "output_type": "stream",
          "text": [
            "Confusion matrix, without normalization\n",
            "[[255 100  65]\n",
            " [254  47 121]\n",
            " [258  33 129]]\n",
            "Normalized confusion matrix\n",
            "[[0.61 0.24 0.15]\n",
            " [0.6  0.11 0.29]\n",
            " [0.61 0.08 0.31]]\n",
            "          pred_CL1  pred_CL2  pred_CL3\n",
            "true_CL1       255       100        65\n",
            "true_CL2       254        47       121\n",
            "true_CL3       258        33       129\n",
            "          pred_CL1  pred_CL2  pred_CL3\n",
            "true_CL1     60.71     23.81     15.48\n",
            "true_CL2     60.19     11.14     28.67\n",
            "true_CL3     61.43      7.86     30.71\n",
            "          pred_CL1  pred_CL2  pred_CL3\n",
            "true_CL1      2.38      2.08      1.76\n",
            "true_CL2      2.38      1.53      2.20\n",
            "true_CL3      2.38      1.31      2.25\n",
            "                   pred_CL1           pred_CL2           pred_CL3\n",
            "true_CL1  b'[56.05, 65.37]'  b'[19.73, 27.89]'  b'[12.03, 18.93]'\n",
            "true_CL2  b'[55.53, 64.85]'   b'[8.14, 14.14]'  b'[24.36, 32.98]'\n",
            "true_CL3  b'[56.77, 66.09]'   b'[5.29, 10.43]'   b'[26.3, 35.12]'\n"
          ],
          "name": "stdout"
        }
      ]
    }
  ]
}